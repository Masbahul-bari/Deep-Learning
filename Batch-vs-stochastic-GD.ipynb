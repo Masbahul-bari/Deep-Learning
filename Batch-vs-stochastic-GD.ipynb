{
 "cells": [
  {
   "cell_type": "code",
   "execution_count": 1,
   "id": "c462f200",
   "metadata": {},
   "outputs": [],
   "source": [
    "import numpy as np\n",
    "import pandas as pd\n",
    "import time"
   ]
  },
  {
   "cell_type": "code",
   "execution_count": 2,
   "id": "b4615de1",
   "metadata": {},
   "outputs": [],
   "source": [
    "df = pd.read_csv('Social_Network_Ads.csv')"
   ]
  },
  {
   "cell_type": "code",
   "execution_count": 3,
   "id": "601adce8",
   "metadata": {},
   "outputs": [
    {
     "data": {
      "text/html": [
       "<div>\n",
       "<style scoped>\n",
       "    .dataframe tbody tr th:only-of-type {\n",
       "        vertical-align: middle;\n",
       "    }\n",
       "\n",
       "    .dataframe tbody tr th {\n",
       "        vertical-align: top;\n",
       "    }\n",
       "\n",
       "    .dataframe thead th {\n",
       "        text-align: right;\n",
       "    }\n",
       "</style>\n",
       "<table border=\"1\" class=\"dataframe\">\n",
       "  <thead>\n",
       "    <tr style=\"text-align: right;\">\n",
       "      <th></th>\n",
       "      <th>User ID</th>\n",
       "      <th>Gender</th>\n",
       "      <th>Age</th>\n",
       "      <th>EstimatedSalary</th>\n",
       "      <th>Purchased</th>\n",
       "    </tr>\n",
       "  </thead>\n",
       "  <tbody>\n",
       "    <tr>\n",
       "      <th>0</th>\n",
       "      <td>15624510</td>\n",
       "      <td>Male</td>\n",
       "      <td>19</td>\n",
       "      <td>19000</td>\n",
       "      <td>0</td>\n",
       "    </tr>\n",
       "    <tr>\n",
       "      <th>1</th>\n",
       "      <td>15810944</td>\n",
       "      <td>Male</td>\n",
       "      <td>35</td>\n",
       "      <td>20000</td>\n",
       "      <td>0</td>\n",
       "    </tr>\n",
       "    <tr>\n",
       "      <th>2</th>\n",
       "      <td>15668575</td>\n",
       "      <td>Female</td>\n",
       "      <td>26</td>\n",
       "      <td>43000</td>\n",
       "      <td>0</td>\n",
       "    </tr>\n",
       "    <tr>\n",
       "      <th>3</th>\n",
       "      <td>15603246</td>\n",
       "      <td>Female</td>\n",
       "      <td>27</td>\n",
       "      <td>57000</td>\n",
       "      <td>0</td>\n",
       "    </tr>\n",
       "    <tr>\n",
       "      <th>4</th>\n",
       "      <td>15804002</td>\n",
       "      <td>Male</td>\n",
       "      <td>19</td>\n",
       "      <td>76000</td>\n",
       "      <td>0</td>\n",
       "    </tr>\n",
       "  </tbody>\n",
       "</table>\n",
       "</div>"
      ],
      "text/plain": [
       "    User ID  Gender  Age  EstimatedSalary  Purchased\n",
       "0  15624510    Male   19            19000          0\n",
       "1  15810944    Male   35            20000          0\n",
       "2  15668575  Female   26            43000          0\n",
       "3  15603246  Female   27            57000          0\n",
       "4  15804002    Male   19            76000          0"
      ]
     },
     "execution_count": 3,
     "metadata": {},
     "output_type": "execute_result"
    }
   ],
   "source": [
    "df.head()"
   ]
  },
  {
   "cell_type": "code",
   "execution_count": 4,
   "id": "5463af99",
   "metadata": {},
   "outputs": [
    {
     "data": {
      "text/plain": [
       "(400, 5)"
      ]
     },
     "execution_count": 4,
     "metadata": {},
     "output_type": "execute_result"
    }
   ],
   "source": [
    "df.shape"
   ]
  },
  {
   "cell_type": "code",
   "execution_count": 5,
   "id": "38366782",
   "metadata": {},
   "outputs": [],
   "source": [
    "df = df[['Age','EstimatedSalary','Purchased']]"
   ]
  },
  {
   "cell_type": "code",
   "execution_count": 6,
   "id": "b64fb3d1",
   "metadata": {},
   "outputs": [
    {
     "data": {
      "text/html": [
       "<div>\n",
       "<style scoped>\n",
       "    .dataframe tbody tr th:only-of-type {\n",
       "        vertical-align: middle;\n",
       "    }\n",
       "\n",
       "    .dataframe tbody tr th {\n",
       "        vertical-align: top;\n",
       "    }\n",
       "\n",
       "    .dataframe thead th {\n",
       "        text-align: right;\n",
       "    }\n",
       "</style>\n",
       "<table border=\"1\" class=\"dataframe\">\n",
       "  <thead>\n",
       "    <tr style=\"text-align: right;\">\n",
       "      <th></th>\n",
       "      <th>Age</th>\n",
       "      <th>EstimatedSalary</th>\n",
       "      <th>Purchased</th>\n",
       "    </tr>\n",
       "  </thead>\n",
       "  <tbody>\n",
       "    <tr>\n",
       "      <th>0</th>\n",
       "      <td>19</td>\n",
       "      <td>19000</td>\n",
       "      <td>0</td>\n",
       "    </tr>\n",
       "    <tr>\n",
       "      <th>1</th>\n",
       "      <td>35</td>\n",
       "      <td>20000</td>\n",
       "      <td>0</td>\n",
       "    </tr>\n",
       "    <tr>\n",
       "      <th>2</th>\n",
       "      <td>26</td>\n",
       "      <td>43000</td>\n",
       "      <td>0</td>\n",
       "    </tr>\n",
       "    <tr>\n",
       "      <th>3</th>\n",
       "      <td>27</td>\n",
       "      <td>57000</td>\n",
       "      <td>0</td>\n",
       "    </tr>\n",
       "    <tr>\n",
       "      <th>4</th>\n",
       "      <td>19</td>\n",
       "      <td>76000</td>\n",
       "      <td>0</td>\n",
       "    </tr>\n",
       "  </tbody>\n",
       "</table>\n",
       "</div>"
      ],
      "text/plain": [
       "   Age  EstimatedSalary  Purchased\n",
       "0   19            19000          0\n",
       "1   35            20000          0\n",
       "2   26            43000          0\n",
       "3   27            57000          0\n",
       "4   19            76000          0"
      ]
     },
     "execution_count": 6,
     "metadata": {},
     "output_type": "execute_result"
    }
   ],
   "source": [
    "df.head()"
   ]
  },
  {
   "cell_type": "code",
   "execution_count": 7,
   "id": "54750e31",
   "metadata": {},
   "outputs": [],
   "source": [
    "x = df.iloc[:,0:2]\n",
    "y = df.iloc[:,-1]"
   ]
  },
  {
   "cell_type": "code",
   "execution_count": 8,
   "id": "31f97f4e",
   "metadata": {},
   "outputs": [],
   "source": [
    "from sklearn.preprocessing import StandardScaler\n",
    "scaler = StandardScaler()\n",
    "\n",
    "x_scaled = scaler.fit_transform(x)"
   ]
  },
  {
   "cell_type": "code",
   "execution_count": 9,
   "id": "94748f23",
   "metadata": {},
   "outputs": [
    {
     "data": {
      "text/plain": [
       "(400, 2)"
      ]
     },
     "execution_count": 9,
     "metadata": {},
     "output_type": "execute_result"
    }
   ],
   "source": [
    "x_scaled.shape"
   ]
  },
  {
   "cell_type": "code",
   "execution_count": 24,
   "id": "47506d0a",
   "metadata": {},
   "outputs": [],
   "source": [
    "#whene you measure, which one is the faster to converge in the same number of epoch, Batch or stochastics, the answer is stochastics. then you have to comment below code, no need to split x and y.\n",
    "\n",
    "from sklearn.model_selection import train_test_split\n",
    "x_train,x_test,y_train,y_test = train_test_split(x,y,test_size=0.2,random_state=2)"
   ]
  },
  {
   "cell_type": "code",
   "execution_count": 11,
   "id": "692cb037",
   "metadata": {},
   "outputs": [
    {
     "data": {
      "text/plain": [
       "(320, 2)"
      ]
     },
     "execution_count": 11,
     "metadata": {},
     "output_type": "execute_result"
    }
   ],
   "source": [
    "x_train.shape"
   ]
  },
  {
   "cell_type": "code",
   "execution_count": 12,
   "id": "676e458c",
   "metadata": {},
   "outputs": [],
   "source": [
    "import tensorflow as tf\n",
    "from tensorflow import keras\n",
    "from keras import Sequential\n",
    "from keras.layers import Dense"
   ]
  },
  {
   "cell_type": "code",
   "execution_count": 13,
   "id": "2286e3dd",
   "metadata": {},
   "outputs": [],
   "source": [
    "model = Sequential()\n",
    "\n",
    "model.add(Dense(10,activation='relu',input_dim=2))\n",
    "model.add(Dense(10,activation='relu'))\n",
    "model.add(Dense(1,activation='sigmoid'))"
   ]
  },
  {
   "cell_type": "code",
   "execution_count": 14,
   "id": "2dd7b37d",
   "metadata": {},
   "outputs": [
    {
     "name": "stdout",
     "output_type": "stream",
     "text": [
      "Model: \"sequential\"\n",
      "_________________________________________________________________\n",
      " Layer (type)                Output Shape              Param #   \n",
      "=================================================================\n",
      " dense (Dense)               (None, 10)                30        \n",
      "                                                                 \n",
      " dense_1 (Dense)             (None, 10)                110       \n",
      "                                                                 \n",
      " dense_2 (Dense)             (None, 1)                 11        \n",
      "                                                                 \n",
      "=================================================================\n",
      "Total params: 151 (604.00 Byte)\n",
      "Trainable params: 151 (604.00 Byte)\n",
      "Non-trainable params: 0 (0.00 Byte)\n",
      "_________________________________________________________________\n"
     ]
    }
   ],
   "source": [
    "model.summary()"
   ]
  },
  {
   "cell_type": "code",
   "execution_count": 31,
   "id": "b31883ff",
   "metadata": {},
   "outputs": [
    {
     "name": "stdout",
     "output_type": "stream",
     "text": [
      "Epoch 1/50\n",
      "320/320 [==============================] - 1s 3ms/step - loss: 0.2823 - accuracy: 0.8875 - val_loss: 0.2302 - val_accuracy: 0.9625\n",
      "Epoch 2/50\n",
      "320/320 [==============================] - 1s 2ms/step - loss: 0.2767 - accuracy: 0.8844 - val_loss: 0.2229 - val_accuracy: 0.9500\n",
      "Epoch 3/50\n",
      "320/320 [==============================] - 1s 2ms/step - loss: 0.2753 - accuracy: 0.8813 - val_loss: 0.2098 - val_accuracy: 0.9625\n",
      "Epoch 4/50\n",
      "320/320 [==============================] - 1s 2ms/step - loss: 0.2815 - accuracy: 0.8813 - val_loss: 0.2039 - val_accuracy: 0.9625\n",
      "Epoch 5/50\n",
      "320/320 [==============================] - 1s 3ms/step - loss: 0.2750 - accuracy: 0.8844 - val_loss: 0.1983 - val_accuracy: 0.9625\n",
      "Epoch 6/50\n",
      "320/320 [==============================] - 1s 2ms/step - loss: 0.2745 - accuracy: 0.8813 - val_loss: 0.1995 - val_accuracy: 0.9625\n",
      "Epoch 7/50\n",
      "320/320 [==============================] - 1s 2ms/step - loss: 0.2783 - accuracy: 0.8938 - val_loss: 0.1920 - val_accuracy: 0.9625\n",
      "Epoch 8/50\n",
      "320/320 [==============================] - 1s 3ms/step - loss: 0.2747 - accuracy: 0.8938 - val_loss: 0.1853 - val_accuracy: 0.9625\n",
      "Epoch 9/50\n",
      "320/320 [==============================] - 1s 2ms/step - loss: 0.2777 - accuracy: 0.8875 - val_loss: 0.1817 - val_accuracy: 0.9625\n",
      "Epoch 10/50\n",
      "320/320 [==============================] - 1s 2ms/step - loss: 0.2749 - accuracy: 0.8969 - val_loss: 0.1807 - val_accuracy: 0.9625\n",
      "Epoch 11/50\n",
      "320/320 [==============================] - 1s 3ms/step - loss: 0.2764 - accuracy: 0.8906 - val_loss: 0.1832 - val_accuracy: 0.9750\n",
      "Epoch 12/50\n",
      "320/320 [==============================] - 1s 3ms/step - loss: 0.2742 - accuracy: 0.8875 - val_loss: 0.1788 - val_accuracy: 0.9625\n",
      "Epoch 13/50\n",
      "320/320 [==============================] - 1s 2ms/step - loss: 0.2761 - accuracy: 0.8938 - val_loss: 0.1789 - val_accuracy: 0.9750\n",
      "Epoch 14/50\n",
      "320/320 [==============================] - 1s 2ms/step - loss: 0.2725 - accuracy: 0.8906 - val_loss: 0.1746 - val_accuracy: 0.9750\n",
      "Epoch 15/50\n",
      "320/320 [==============================] - 1s 2ms/step - loss: 0.2762 - accuracy: 0.8938 - val_loss: 0.1718 - val_accuracy: 0.9750\n",
      "Epoch 16/50\n",
      "320/320 [==============================] - 1s 2ms/step - loss: 0.2778 - accuracy: 0.8938 - val_loss: 0.1710 - val_accuracy: 0.9750\n",
      "Epoch 17/50\n",
      "320/320 [==============================] - 1s 3ms/step - loss: 0.2743 - accuracy: 0.8938 - val_loss: 0.1746 - val_accuracy: 0.9625\n",
      "Epoch 18/50\n",
      "320/320 [==============================] - 1s 2ms/step - loss: 0.2710 - accuracy: 0.8906 - val_loss: 0.1703 - val_accuracy: 0.9750\n",
      "Epoch 19/50\n",
      "320/320 [==============================] - 1s 2ms/step - loss: 0.2807 - accuracy: 0.8875 - val_loss: 0.1695 - val_accuracy: 0.9750\n",
      "Epoch 20/50\n",
      "320/320 [==============================] - 1s 2ms/step - loss: 0.2779 - accuracy: 0.8938 - val_loss: 0.1674 - val_accuracy: 0.9750\n",
      "Epoch 21/50\n",
      "320/320 [==============================] - 1s 2ms/step - loss: 0.2752 - accuracy: 0.8969 - val_loss: 0.1722 - val_accuracy: 0.9750\n",
      "Epoch 22/50\n",
      "320/320 [==============================] - 1s 2ms/step - loss: 0.2735 - accuracy: 0.8875 - val_loss: 0.1749 - val_accuracy: 0.9625\n",
      "Epoch 23/50\n",
      "320/320 [==============================] - 1s 2ms/step - loss: 0.2735 - accuracy: 0.8844 - val_loss: 0.1660 - val_accuracy: 0.9750\n",
      "Epoch 24/50\n",
      "320/320 [==============================] - 1s 2ms/step - loss: 0.2723 - accuracy: 0.8969 - val_loss: 0.1640 - val_accuracy: 0.9750\n",
      "Epoch 25/50\n",
      "320/320 [==============================] - 1s 2ms/step - loss: 0.2754 - accuracy: 0.8969 - val_loss: 0.1668 - val_accuracy: 0.9750\n",
      "Epoch 26/50\n",
      "320/320 [==============================] - 1s 3ms/step - loss: 0.2710 - accuracy: 0.8938 - val_loss: 0.1692 - val_accuracy: 0.9625\n",
      "Epoch 27/50\n",
      "320/320 [==============================] - 1s 2ms/step - loss: 0.2704 - accuracy: 0.9000 - val_loss: 0.1731 - val_accuracy: 0.9625\n",
      "Epoch 28/50\n",
      "320/320 [==============================] - 1s 2ms/step - loss: 0.2621 - accuracy: 0.9031 - val_loss: 0.1715 - val_accuracy: 0.9625\n",
      "Epoch 29/50\n",
      "320/320 [==============================] - 1s 2ms/step - loss: 0.2647 - accuracy: 0.9031 - val_loss: 0.1700 - val_accuracy: 0.9625\n",
      "Epoch 30/50\n",
      "320/320 [==============================] - 1s 2ms/step - loss: 0.2611 - accuracy: 0.8969 - val_loss: 0.1659 - val_accuracy: 0.9625\n",
      "Epoch 31/50\n",
      "320/320 [==============================] - 1s 2ms/step - loss: 0.2663 - accuracy: 0.9000 - val_loss: 0.1628 - val_accuracy: 0.9625\n",
      "Epoch 32/50\n",
      "320/320 [==============================] - 1s 2ms/step - loss: 0.2687 - accuracy: 0.9031 - val_loss: 0.1654 - val_accuracy: 0.9625\n",
      "Epoch 33/50\n",
      "320/320 [==============================] - 1s 2ms/step - loss: 0.2653 - accuracy: 0.9000 - val_loss: 0.1566 - val_accuracy: 0.9625\n",
      "Epoch 34/50\n",
      "320/320 [==============================] - 1s 2ms/step - loss: 0.2731 - accuracy: 0.9031 - val_loss: 0.1632 - val_accuracy: 0.9625\n",
      "Epoch 35/50\n",
      "320/320 [==============================] - 1s 2ms/step - loss: 0.2698 - accuracy: 0.9000 - val_loss: 0.1669 - val_accuracy: 0.9625\n",
      "Epoch 36/50\n",
      "320/320 [==============================] - 1s 2ms/step - loss: 0.2671 - accuracy: 0.9062 - val_loss: 0.1647 - val_accuracy: 0.9625\n",
      "Epoch 37/50\n",
      "320/320 [==============================] - 1s 2ms/step - loss: 0.2696 - accuracy: 0.8938 - val_loss: 0.1597 - val_accuracy: 0.9625\n",
      "Epoch 38/50\n",
      "320/320 [==============================] - 1s 2ms/step - loss: 0.2698 - accuracy: 0.9031 - val_loss: 0.1594 - val_accuracy: 0.9625\n",
      "Epoch 39/50\n",
      "320/320 [==============================] - 1s 2ms/step - loss: 0.2752 - accuracy: 0.9062 - val_loss: 0.1577 - val_accuracy: 0.9625\n",
      "Epoch 40/50\n",
      "320/320 [==============================] - 1s 3ms/step - loss: 0.2731 - accuracy: 0.8969 - val_loss: 0.1655 - val_accuracy: 0.9500\n",
      "Epoch 41/50\n",
      "320/320 [==============================] - 1s 2ms/step - loss: 0.2750 - accuracy: 0.9062 - val_loss: 0.1612 - val_accuracy: 0.9625\n",
      "Epoch 42/50\n",
      "320/320 [==============================] - 1s 2ms/step - loss: 0.2699 - accuracy: 0.9031 - val_loss: 0.1600 - val_accuracy: 0.9625\n",
      "Epoch 43/50\n",
      "320/320 [==============================] - 1s 2ms/step - loss: 0.2771 - accuracy: 0.9031 - val_loss: 0.1600 - val_accuracy: 0.9625\n",
      "Epoch 44/50\n",
      "320/320 [==============================] - 1s 2ms/step - loss: 0.2742 - accuracy: 0.9031 - val_loss: 0.1593 - val_accuracy: 0.9625\n",
      "Epoch 45/50\n",
      "320/320 [==============================] - 1s 2ms/step - loss: 0.2721 - accuracy: 0.9062 - val_loss: 0.1581 - val_accuracy: 0.9500\n",
      "Epoch 46/50\n",
      "320/320 [==============================] - 1s 2ms/step - loss: 0.2692 - accuracy: 0.9031 - val_loss: 0.1622 - val_accuracy: 0.9500\n",
      "Epoch 47/50\n",
      "320/320 [==============================] - 1s 3ms/step - loss: 0.2699 - accuracy: 0.9062 - val_loss: 0.1592 - val_accuracy: 0.9500\n",
      "Epoch 48/50\n",
      "320/320 [==============================] - 1s 2ms/step - loss: 0.2684 - accuracy: 0.9094 - val_loss: 0.1593 - val_accuracy: 0.9500\n",
      "Epoch 49/50\n",
      "320/320 [==============================] - 1s 2ms/step - loss: 0.2781 - accuracy: 0.9000 - val_loss: 0.1635 - val_accuracy: 0.9500\n",
      "Epoch 50/50\n",
      "320/320 [==============================] - 1s 2ms/step - loss: 0.2726 - accuracy: 0.9094 - val_loss: 0.1650 - val_accuracy: 0.9500\n",
      "37.203449726104736\n"
     ]
    }
   ],
   "source": [
    "model.compile(loss='binary_crossentropy',metrics=['accuracy'])\n",
    "start = time.time()\n",
    "\n",
    "history = model.fit(x_scaled,y,epochs=50,batch_size=1,validation_split=0.2)\n",
    "# history = model.fit(x_scaled,y,epochs=10,batch_size=320,validation_split=0.2) #--------> batch_size = 320(x_train.shape) neans it is Batch-GD\n",
    "# history = model.fit(x_scaled,y,epochs=10,batch_size=1,validation_split=0.2) # --------> batch_size = 1 neans it is stochastic-GD \n",
    "print(time.time() - start)\n",
    "\n",
    "#whih is faster?\n",
    "#the answer is Batch-GD."
   ]
  },
  {
   "cell_type": "code",
   "execution_count": 32,
   "id": "52533e55",
   "metadata": {},
   "outputs": [
    {
     "data": {
      "text/plain": [
       "[<matplotlib.lines.Line2D at 0x1d2506927c0>]"
      ]
     },
     "execution_count": 32,
     "metadata": {},
     "output_type": "execute_result"
    },
    {
     "data": {
      "image/png": "[encoded data removed]",
      "text/plain": [
       "<Figure size 640x480 with 1 Axes>"
      ]
     },
     "metadata": {},
     "output_type": "display_data"
    }
   ],
   "source": [
    "import matplotlib.pyplot as plt\n",
    "plt.plot(history.history['loss'])"
   ]
  },
  {
   "cell_type": "code",
   "execution_count": 25,
   "id": "5901f191",
   "metadata": {},
   "outputs": [],
   "source": [
    "model = Sequential()\n",
    "\n",
    "model.add(Dense(10,activation='relu',input_dim=2))\n",
    "model.add(Dense(10,activation='relu'))\n",
    "model.add(Dense(1,activation='sigmoid'))"
   ]
  },
  {
   "cell_type": "code",
   "execution_count": 27,
   "id": "d3667b26",
   "metadata": {},
   "outputs": [
    {
     "name": "stdout",
     "output_type": "stream",
     "text": [
      "Epoch 1/10\n",
      "2/2 [==============================] - 1s 155ms/step - loss: 0.7153 - accuracy: 0.1937 - val_loss: 0.6796 - val_accuracy: 0.5000\n",
      "Epoch 2/10\n",
      "2/2 [==============================] - 0s 45ms/step - loss: 0.7053 - accuracy: 0.2844 - val_loss: 0.6734 - val_accuracy: 0.5375\n",
      "Epoch 3/10\n",
      "2/2 [==============================] - 0s 41ms/step - loss: 0.6992 - accuracy: 0.4281 - val_loss: 0.6675 - val_accuracy: 0.5625\n",
      "Epoch 4/10\n",
      "2/2 [==============================] - 0s 52ms/step - loss: 0.6949 - accuracy: 0.5344 - val_loss: 0.6644 - val_accuracy: 0.6000\n",
      "Epoch 5/10\n",
      "2/2 [==============================] - 0s 49ms/step - loss: 0.6918 - accuracy: 0.5938 - val_loss: 0.6598 - val_accuracy: 0.6875\n",
      "Epoch 6/10\n",
      "2/2 [==============================] - 0s 52ms/step - loss: 0.6889 - accuracy: 0.6750 - val_loss: 0.6557 - val_accuracy: 0.7750\n",
      "Epoch 7/10\n",
      "2/2 [==============================] - 0s 51ms/step - loss: 0.6864 - accuracy: 0.7000 - val_loss: 0.6531 - val_accuracy: 0.8125\n",
      "Epoch 8/10\n",
      "2/2 [==============================] - 0s 56ms/step - loss: 0.6840 - accuracy: 0.7250 - val_loss: 0.6499 - val_accuracy: 0.8625\n",
      "Epoch 9/10\n",
      "2/2 [==============================] - 0s 45ms/step - loss: 0.6815 - accuracy: 0.7563 - val_loss: 0.6475 - val_accuracy: 0.9000\n",
      "Epoch 10/10\n",
      "2/2 [==============================] - 0s 54ms/step - loss: 0.6792 - accuracy: 0.7688 - val_loss: 0.6444 - val_accuracy: 0.9000\n"
     ]
    }
   ],
   "source": [
    "model.compile(loss='binary_crossentropy',metrics=['accuracy'])\n",
    "#start = time.time()\n",
    "history = model.fit(x_scaled,y,epochs=10,batch_size=250,validation_split=0.2)\n",
    "#print(time.time() - start)"
   ]
  },
  {
   "cell_type": "code",
   "execution_count": 28,
   "id": "7afe5567",
   "metadata": {},
   "outputs": [
    {
     "data": {
      "text/plain": [
       "[<matplotlib.lines.Line2D at 0x1d24937d820>]"
      ]
     },
     "execution_count": 28,
     "metadata": {},
     "output_type": "execute_result"
    },
    {
     "data": {
      "image/png": "[encoded data removed]",
      "text/plain": [
       "<Figure size 640x480 with 1 Axes>"
      ]
     },
     "metadata": {},
     "output_type": "display_data"
    }
   ],
   "source": [
    "plt.plot(history.history['loss'])"
   ]
  },
  {
   "cell_type": "code",
   "execution_count": null,
   "id": "01601d65",
   "metadata": {},
   "outputs": [],
   "source": []
  }
 ],
 "metadata": {
  "kernelspec": {
   "display_name": "Python 3 (ipykernel)",
   "language": "python",
   "name": "python3"
  },
  "language_info": {
   "codemirror_mode": {
    "name": "ipython",
    "version": 3
   },
   "file_extension": ".py",
   "mimetype": "text/x-python",
   "name": "python",
   "nbconvert_exporter": "python",
   "pygments_lexer": "ipython3",
   "version": "3.9.13"
  }
 },
 "nbformat": 4,
 "nbformat_minor": 5
}
