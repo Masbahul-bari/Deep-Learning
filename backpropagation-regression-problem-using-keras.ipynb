{
 "cells": [
  {
   "cell_type": "code",
   "execution_count": 1,
   "id": "e88d41a3",
   "metadata": {},
   "outputs": [],
   "source": [
    "import numpy as np\n",
    "import pandas as pd"
   ]
  },
  {
   "cell_type": "code",
   "execution_count": 2,
   "id": "ef42272e",
   "metadata": {},
   "outputs": [],
   "source": [
    "df = pd.DataFrame([[8,8,4],[7,9,5],[6,10,6],[5,12,7]], columns=['cgpa', 'profile_score', 'lpa'])"
   ]
  },
  {
   "cell_type": "code",
   "execution_count": 5,
   "id": "60cacc3f",
   "metadata": {},
   "outputs": [
    {
     "data": {
      "text/html": [
       "<div>\n",
       "<style scoped>\n",
       "    .dataframe tbody tr th:only-of-type {\n",
       "        vertical-align: middle;\n",
       "    }\n",
       "\n",
       "    .dataframe tbody tr th {\n",
       "        vertical-align: top;\n",
       "    }\n",
       "\n",
       "    .dataframe thead th {\n",
       "        text-align: right;\n",
       "    }\n",
       "</style>\n",
       "<table border=\"1\" class=\"dataframe\">\n",
       "  <thead>\n",
       "    <tr style=\"text-align: right;\">\n",
       "      <th></th>\n",
       "      <th>cgpa</th>\n",
       "      <th>profile_score</th>\n",
       "      <th>lpa</th>\n",
       "    </tr>\n",
       "  </thead>\n",
       "  <tbody>\n",
       "    <tr>\n",
       "      <th>0</th>\n",
       "      <td>8</td>\n",
       "      <td>8</td>\n",
       "      <td>4</td>\n",
       "    </tr>\n",
       "    <tr>\n",
       "      <th>1</th>\n",
       "      <td>7</td>\n",
       "      <td>9</td>\n",
       "      <td>5</td>\n",
       "    </tr>\n",
       "    <tr>\n",
       "      <th>2</th>\n",
       "      <td>6</td>\n",
       "      <td>10</td>\n",
       "      <td>6</td>\n",
       "    </tr>\n",
       "    <tr>\n",
       "      <th>3</th>\n",
       "      <td>5</td>\n",
       "      <td>12</td>\n",
       "      <td>7</td>\n",
       "    </tr>\n",
       "  </tbody>\n",
       "</table>\n",
       "</div>"
      ],
      "text/plain": [
       "   cgpa  profile_score  lpa\n",
       "0     8              8    4\n",
       "1     7              9    5\n",
       "2     6             10    6\n",
       "3     5             12    7"
      ]
     },
     "execution_count": 5,
     "metadata": {},
     "output_type": "execute_result"
    }
   ],
   "source": [
    "df"
   ]
  },
  {
   "cell_type": "code",
   "execution_count": 6,
   "id": "4a6b30ae",
   "metadata": {},
   "outputs": [],
   "source": [
    "import tensorflow\n",
    "from tensorflow import keras\n",
    "from tensorflow.keras import Sequential\n",
    "from tensorflow.keras.layers import Dense"
   ]
  },
  {
   "cell_type": "code",
   "execution_count": 8,
   "id": "fc5f964c",
   "metadata": {},
   "outputs": [],
   "source": [
    "model = Sequential()\n",
    "\n",
    "model.add(Dense(2,activation='linear',input_dim=2))\n",
    "model.add(Dense(1,activation='linear'))"
   ]
  },
  {
   "cell_type": "code",
   "execution_count": 9,
   "id": "8e2232c6",
   "metadata": {},
   "outputs": [
    {
     "name": "stdout",
     "output_type": "stream",
     "text": [
      "Model: \"sequential_1\"\n",
      "_________________________________________________________________\n",
      " Layer (type)                Output Shape              Param #   \n",
      "=================================================================\n",
      " dense (Dense)               (None, 2)                 6         \n",
      "                                                                 \n",
      " dense_1 (Dense)             (None, 1)                 3         \n",
      "                                                                 \n",
      "=================================================================\n",
      "Total params: 9 (36.00 Byte)\n",
      "Trainable params: 9 (36.00 Byte)\n",
      "Non-trainable params: 0 (0.00 Byte)\n",
      "_________________________________________________________________\n"
     ]
    }
   ],
   "source": [
    "model.summary()"
   ]
  },
  {
   "cell_type": "code",
   "execution_count": 12,
   "id": "7944cc05",
   "metadata": {},
   "outputs": [
    {
     "data": {
      "text/plain": [
       "[array([[-0.18010795,  0.7156743 ],\n",
       "        [ 0.45189583, -0.37087286]], dtype=float32),\n",
       " array([0., 0.], dtype=float32),\n",
       " array([[ 0.04947364],\n",
       "        [-0.23015285]], dtype=float32),\n",
       " array([0.], dtype=float32)]"
      ]
     },
     "execution_count": 12,
     "metadata": {},
     "output_type": "execute_result"
    }
   ],
   "source": [
    "model.get_weights()"
   ]
  },
  {
   "cell_type": "code",
   "execution_count": 14,
   "id": "27af5258",
   "metadata": {},
   "outputs": [],
   "source": [
    "new_weights = [np.array([[0.1, 0.1],\n",
    "        [0.1, 0.1]], dtype=np.float32),\n",
    " np.array([0., 0.], dtype=np.float32),\n",
    " np.array([[ 0.1],\n",
    "        [0.1]], dtype=np.float32),\n",
    " np.array([0.], dtype=np.float32)]"
   ]
  },
  {
   "cell_type": "code",
   "execution_count": 15,
   "id": "57ec7c26",
   "metadata": {},
   "outputs": [],
   "source": [
    "model.set_weights(new_weights)"
   ]
  },
  {
   "cell_type": "code",
   "execution_count": 16,
   "id": "16230f18",
   "metadata": {},
   "outputs": [
    {
     "data": {
      "text/plain": [
       "[array([[0.1, 0.1],\n",
       "        [0.1, 0.1]], dtype=float32),\n",
       " array([0., 0.], dtype=float32),\n",
       " array([[0.1],\n",
       "        [0.1]], dtype=float32),\n",
       " array([0.], dtype=float32)]"
      ]
     },
     "execution_count": 16,
     "metadata": {},
     "output_type": "execute_result"
    }
   ],
   "source": [
    "model.get_weights()"
   ]
  },
  {
   "cell_type": "code",
   "execution_count": 18,
   "id": "34f0cde2",
   "metadata": {},
   "outputs": [],
   "source": [
    "optimizer = keras.optimizers.Adam(learning_rate=0.001)\n",
    "model.compile(loss='mean_squared_error',optimizer=optimizer)"
   ]
  },
  {
   "cell_type": "code",
   "execution_count": 19,
   "id": "4fa15d0a",
   "metadata": {},
   "outputs": [
    {
     "name": "stdout",
     "output_type": "stream",
     "text": [
      "Epoch 1/75\n",
      "4/4 [==============================] - 0s 3ms/step - loss: 27.9165\n",
      "Epoch 2/75\n",
      "4/4 [==============================] - 0s 2ms/step - loss: 27.5745\n",
      "Epoch 3/75\n",
      "4/4 [==============================] - 0s 3ms/step - loss: 27.2679\n",
      "Epoch 4/75\n",
      "4/4 [==============================] - 0s 1ms/step - loss: 26.9091\n",
      "Epoch 5/75\n",
      "4/4 [==============================] - 0s 2ms/step - loss: 26.5707\n",
      "Epoch 6/75\n",
      "4/4 [==============================] - 0s 2ms/step - loss: 26.1993\n",
      "Epoch 7/75\n",
      "4/4 [==============================] - 0s 2ms/step - loss: 25.8369\n",
      "Epoch 8/75\n",
      "4/4 [==============================] - 0s 3ms/step - loss: 25.4854\n",
      "Epoch 9/75\n",
      "4/4 [==============================] - 0s 3ms/step - loss: 25.0750\n",
      "Epoch 10/75\n",
      "4/4 [==============================] - 0s 3ms/step - loss: 24.6635\n",
      "Epoch 11/75\n",
      "4/4 [==============================] - 0s 3ms/step - loss: 24.2466\n",
      "Epoch 12/75\n",
      "4/4 [==============================] - 0s 2ms/step - loss: 23.8189\n",
      "Epoch 13/75\n",
      "4/4 [==============================] - 0s 3ms/step - loss: 23.4191\n",
      "Epoch 14/75\n",
      "4/4 [==============================] - 0s 3ms/step - loss: 22.9426\n",
      "Epoch 15/75\n",
      "4/4 [==============================] - 0s 3ms/step - loss: 22.4703\n",
      "Epoch 16/75\n",
      "4/4 [==============================] - 0s 3ms/step - loss: 22.0203\n",
      "Epoch 17/75\n",
      "4/4 [==============================] - 0s 3ms/step - loss: 21.5376\n",
      "Epoch 18/75\n",
      "4/4 [==============================] - 0s 3ms/step - loss: 21.1142\n",
      "Epoch 19/75\n",
      "4/4 [==============================] - 0s 3ms/step - loss: 20.5630\n",
      "Epoch 20/75\n",
      "4/4 [==============================] - 0s 3ms/step - loss: 20.0708\n",
      "Epoch 21/75\n",
      "4/4 [==============================] - 0s 4ms/step - loss: 19.6029\n",
      "Epoch 22/75\n",
      "4/4 [==============================] - 0s 3ms/step - loss: 19.0465\n",
      "Epoch 23/75\n",
      "4/4 [==============================] - 0s 2ms/step - loss: 18.5390\n",
      "Epoch 24/75\n",
      "4/4 [==============================] - 0s 2ms/step - loss: 18.0593\n",
      "Epoch 25/75\n",
      "4/4 [==============================] - 0s 3ms/step - loss: 17.5027\n",
      "Epoch 26/75\n",
      "4/4 [==============================] - 0s 3ms/step - loss: 16.9754\n",
      "Epoch 27/75\n",
      "4/4 [==============================] - 0s 2ms/step - loss: 16.4524\n",
      "Epoch 28/75\n",
      "4/4 [==============================] - 0s 2ms/step - loss: 15.9703\n",
      "Epoch 29/75\n",
      "4/4 [==============================] - 0s 2ms/step - loss: 15.4336\n",
      "Epoch 30/75\n",
      "4/4 [==============================] - 0s 2ms/step - loss: 14.8548\n",
      "Epoch 31/75\n",
      "4/4 [==============================] - 0s 2ms/step - loss: 14.3572\n",
      "Epoch 32/75\n",
      "4/4 [==============================] - 0s 2ms/step - loss: 13.8663\n",
      "Epoch 33/75\n",
      "4/4 [==============================] - 0s 3ms/step - loss: 13.3108\n",
      "Epoch 34/75\n",
      "4/4 [==============================] - 0s 3ms/step - loss: 12.8236\n",
      "Epoch 35/75\n",
      "4/4 [==============================] - 0s 2ms/step - loss: 12.3189\n",
      "Epoch 36/75\n",
      "4/4 [==============================] - 0s 2ms/step - loss: 11.8054\n",
      "Epoch 37/75\n",
      "4/4 [==============================] - 0s 3ms/step - loss: 11.3034\n",
      "Epoch 38/75\n",
      "4/4 [==============================] - 0s 4ms/step - loss: 10.8349\n",
      "Epoch 39/75\n",
      "4/4 [==============================] - 0s 3ms/step - loss: 10.3062\n",
      "Epoch 40/75\n",
      "4/4 [==============================] - 0s 2ms/step - loss: 9.8997\n",
      "Epoch 41/75\n",
      "4/4 [==============================] - 0s 2ms/step - loss: 9.4524\n",
      "Epoch 42/75\n",
      "4/4 [==============================] - 0s 3ms/step - loss: 8.9697\n",
      "Epoch 43/75\n",
      "4/4 [==============================] - 0s 2ms/step - loss: 8.4900\n",
      "Epoch 44/75\n",
      "4/4 [==============================] - 0s 6ms/step - loss: 8.0878\n",
      "Epoch 45/75\n",
      "4/4 [==============================] - 0s 4ms/step - loss: 7.7164\n",
      "Epoch 46/75\n",
      "4/4 [==============================] - 0s 3ms/step - loss: 7.3378\n",
      "Epoch 47/75\n",
      "4/4 [==============================] - 0s 2ms/step - loss: 6.9263\n",
      "Epoch 48/75\n",
      "4/4 [==============================] - 0s 3ms/step - loss: 6.5584\n",
      "Epoch 49/75\n",
      "4/4 [==============================] - 0s 3ms/step - loss: 6.1988\n",
      "Epoch 50/75\n",
      "4/4 [==============================] - 0s 2ms/step - loss: 5.8087\n",
      "Epoch 51/75\n",
      "4/4 [==============================] - 0s 3ms/step - loss: 5.5168\n",
      "Epoch 52/75\n",
      "4/4 [==============================] - 0s 3ms/step - loss: 5.2271\n",
      "Epoch 53/75\n",
      "4/4 [==============================] - 0s 2ms/step - loss: 4.9031\n",
      "Epoch 54/75\n",
      "4/4 [==============================] - 0s 2ms/step - loss: 4.5909\n",
      "Epoch 55/75\n",
      "4/4 [==============================] - 0s 2ms/step - loss: 4.3442\n",
      "Epoch 56/75\n",
      "4/4 [==============================] - 0s 2ms/step - loss: 4.1178\n",
      "Epoch 57/75\n",
      "4/4 [==============================] - 0s 2ms/step - loss: 3.8547\n",
      "Epoch 58/75\n",
      "4/4 [==============================] - 0s 2ms/step - loss: 3.6556\n",
      "Epoch 59/75\n",
      "4/4 [==============================] - 0s 2ms/step - loss: 3.4190\n",
      "Epoch 60/75\n",
      "4/4 [==============================] - 0s 3ms/step - loss: 3.2138\n",
      "Epoch 61/75\n",
      "4/4 [==============================] - 0s 3ms/step - loss: 3.0087\n",
      "Epoch 62/75\n",
      "4/4 [==============================] - 0s 2ms/step - loss: 2.8319\n",
      "Epoch 63/75\n",
      "4/4 [==============================] - 0s 3ms/step - loss: 2.6870\n",
      "Epoch 64/75\n",
      "4/4 [==============================] - 0s 2ms/step - loss: 2.5608\n",
      "Epoch 65/75\n",
      "4/4 [==============================] - 0s 2ms/step - loss: 2.3837\n",
      "Epoch 66/75\n",
      "4/4 [==============================] - 0s 2ms/step - loss: 2.2426\n",
      "Epoch 67/75\n",
      "4/4 [==============================] - 0s 2ms/step - loss: 2.1770\n",
      "Epoch 68/75\n",
      "4/4 [==============================] - 0s 3ms/step - loss: 2.0558\n",
      "Epoch 69/75\n",
      "4/4 [==============================] - 0s 3ms/step - loss: 1.9401\n",
      "Epoch 70/75\n",
      "4/4 [==============================] - 0s 1ms/step - loss: 1.8523\n",
      "Epoch 71/75\n",
      "4/4 [==============================] - 0s 3ms/step - loss: 1.7450\n",
      "Epoch 72/75\n",
      "4/4 [==============================] - 0s 3ms/step - loss: 1.6779\n",
      "Epoch 73/75\n",
      "4/4 [==============================] - 0s 3ms/step - loss: 1.6118\n",
      "Epoch 74/75\n",
      "4/4 [==============================] - 0s 3ms/step - loss: 1.5502\n",
      "Epoch 75/75\n",
      "4/4 [==============================] - 0s 3ms/step - loss: 1.4975\n"
     ]
    },
    {
     "data": {
      "text/plain": [
       "<keras.src.callbacks.History at 0x2709ff276d0>"
      ]
     },
     "execution_count": 19,
     "metadata": {},
     "output_type": "execute_result"
    }
   ],
   "source": [
    "model.fit(df.iloc[:,0:-1].values,df['lpa'].values,epochs=75,verbose=1,batch_size=1)"
   ]
  },
  {
   "cell_type": "code",
   "execution_count": null,
   "id": "eab44316",
   "metadata": {},
   "outputs": [],
   "source": []
  }
 ],
 "metadata": {
  "kernelspec": {
   "display_name": "Python 3 (ipykernel)",
   "language": "python",
   "name": "python3"
  },
  "language_info": {
   "codemirror_mode": {
    "name": "ipython",
    "version": 3
   },
   "file_extension": ".py",
   "mimetype": "text/x-python",
   "name": "python",
   "nbconvert_exporter": "python",
   "pygments_lexer": "ipython3",
   "version": "3.9.13"
  }
 },
 "nbformat": 4,
 "nbformat_minor": 5
}
