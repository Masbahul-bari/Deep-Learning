{
 "cells": [
  {
   "cell_type": "code",
   "execution_count": 1,
   "metadata": {
    "id": "koetAqiciGm6"
   },
   "outputs": [],
   "source": [
    "import numpy as np\n",
    "import pandas as pd"
   ]
  },
  {
   "cell_type": "code",
   "execution_count": 2,
   "metadata": {
    "id": "4QXYKEtdiRNT"
   },
   "outputs": [],
   "source": [
    "df = pd.read_csv('Churn_Modelling.csv')"
   ]
  },
  {
   "cell_type": "code",
   "execution_count": 3,
   "metadata": {
    "colab": {
     "base_uri": "https://localhost:8080/",
     "height": 2456
    },
    "id": "3Fr7fE2DiU8Y",
    "outputId": "660fbcef-f57f-4ef0-cd7c-6e04e02bb9c4"
   },
   "outputs": [
    {
     "data": {
      "text/html": [
       "<div>\n",
       "<style scoped>\n",
       "    .dataframe tbody tr th:only-of-type {\n",
       "        vertical-align: middle;\n",
       "    }\n",
       "\n",
       "    .dataframe tbody tr th {\n",
       "        vertical-align: top;\n",
       "    }\n",
       "\n",
       "    .dataframe thead th {\n",
       "        text-align: right;\n",
       "    }\n",
       "</style>\n",
       "<table border=\"1\" class=\"dataframe\">\n",
       "  <thead>\n",
       "    <tr style=\"text-align: right;\">\n",
       "      <th></th>\n",
       "      <th>RowNumber</th>\n",
       "      <th>CustomerId</th>\n",
       "      <th>Surname</th>\n",
       "      <th>CreditScore</th>\n",
       "      <th>Geography</th>\n",
       "      <th>Gender</th>\n",
       "      <th>Age</th>\n",
       "      <th>Tenure</th>\n",
       "      <th>Balance</th>\n",
       "      <th>NumOfProducts</th>\n",
       "      <th>HasCrCard</th>\n",
       "      <th>IsActiveMember</th>\n",
       "      <th>EstimatedSalary</th>\n",
       "      <th>Exited</th>\n",
       "    </tr>\n",
       "  </thead>\n",
       "  <tbody>\n",
       "    <tr>\n",
       "      <th>0</th>\n",
       "      <td>1</td>\n",
       "      <td>15634602</td>\n",
       "      <td>Hargrave</td>\n",
       "      <td>619</td>\n",
       "      <td>France</td>\n",
       "      <td>Female</td>\n",
       "      <td>42</td>\n",
       "      <td>2</td>\n",
       "      <td>0.00</td>\n",
       "      <td>1</td>\n",
       "      <td>1</td>\n",
       "      <td>1</td>\n",
       "      <td>101348.88</td>\n",
       "      <td>1</td>\n",
       "    </tr>\n",
       "    <tr>\n",
       "      <th>1</th>\n",
       "      <td>2</td>\n",
       "      <td>15647311</td>\n",
       "      <td>Hill</td>\n",
       "      <td>608</td>\n",
       "      <td>Spain</td>\n",
       "      <td>Female</td>\n",
       "      <td>41</td>\n",
       "      <td>1</td>\n",
       "      <td>83807.86</td>\n",
       "      <td>1</td>\n",
       "      <td>0</td>\n",
       "      <td>1</td>\n",
       "      <td>112542.58</td>\n",
       "      <td>0</td>\n",
       "    </tr>\n",
       "    <tr>\n",
       "      <th>2</th>\n",
       "      <td>3</td>\n",
       "      <td>15619304</td>\n",
       "      <td>Onio</td>\n",
       "      <td>502</td>\n",
       "      <td>France</td>\n",
       "      <td>Female</td>\n",
       "      <td>42</td>\n",
       "      <td>8</td>\n",
       "      <td>159660.80</td>\n",
       "      <td>3</td>\n",
       "      <td>1</td>\n",
       "      <td>0</td>\n",
       "      <td>113931.57</td>\n",
       "      <td>1</td>\n",
       "    </tr>\n",
       "    <tr>\n",
       "      <th>3</th>\n",
       "      <td>4</td>\n",
       "      <td>15701354</td>\n",
       "      <td>Boni</td>\n",
       "      <td>699</td>\n",
       "      <td>France</td>\n",
       "      <td>Female</td>\n",
       "      <td>39</td>\n",
       "      <td>1</td>\n",
       "      <td>0.00</td>\n",
       "      <td>2</td>\n",
       "      <td>0</td>\n",
       "      <td>0</td>\n",
       "      <td>93826.63</td>\n",
       "      <td>0</td>\n",
       "    </tr>\n",
       "    <tr>\n",
       "      <th>4</th>\n",
       "      <td>5</td>\n",
       "      <td>15737888</td>\n",
       "      <td>Mitchell</td>\n",
       "      <td>850</td>\n",
       "      <td>Spain</td>\n",
       "      <td>Female</td>\n",
       "      <td>43</td>\n",
       "      <td>2</td>\n",
       "      <td>125510.82</td>\n",
       "      <td>1</td>\n",
       "      <td>1</td>\n",
       "      <td>1</td>\n",
       "      <td>79084.10</td>\n",
       "      <td>0</td>\n",
       "    </tr>\n",
       "  </tbody>\n",
       "</table>\n",
       "</div>"
      ],
      "text/plain": [
       "   RowNumber  CustomerId   Surname  CreditScore Geography  Gender  Age  \\\n",
       "0          1    15634602  Hargrave          619    France  Female   42   \n",
       "1          2    15647311      Hill          608     Spain  Female   41   \n",
       "2          3    15619304      Onio          502    France  Female   42   \n",
       "3          4    15701354      Boni          699    France  Female   39   \n",
       "4          5    15737888  Mitchell          850     Spain  Female   43   \n",
       "\n",
       "   Tenure    Balance  NumOfProducts  HasCrCard  IsActiveMember  \\\n",
       "0       2       0.00              1          1               1   \n",
       "1       1   83807.86              1          0               1   \n",
       "2       8  159660.80              3          1               0   \n",
       "3       1       0.00              2          0               0   \n",
       "4       2  125510.82              1          1               1   \n",
       "\n",
       "   EstimatedSalary  Exited  \n",
       "0        101348.88       1  \n",
       "1        112542.58       0  \n",
       "2        113931.57       1  \n",
       "3         93826.63       0  \n",
       "4         79084.10       0  "
      ]
     },
     "execution_count": 3,
     "metadata": {},
     "output_type": "execute_result"
    }
   ],
   "source": [
    "df.head()"
   ]
  },
  {
   "cell_type": "code",
   "execution_count": 4,
   "metadata": {
    "colab": {
     "base_uri": "https://localhost:8080/",
     "height": 2459
    },
    "id": "_QJ-LGUOiU5M",
    "outputId": "21dbb914-9535-46d8-b103-dad1ab3f09f0"
   },
   "outputs": [
    {
     "data": {
      "text/html": [
       "<div>\n",
       "<style scoped>\n",
       "    .dataframe tbody tr th:only-of-type {\n",
       "        vertical-align: middle;\n",
       "    }\n",
       "\n",
       "    .dataframe tbody tr th {\n",
       "        vertical-align: top;\n",
       "    }\n",
       "\n",
       "    .dataframe thead th {\n",
       "        text-align: right;\n",
       "    }\n",
       "</style>\n",
       "<table border=\"1\" class=\"dataframe\">\n",
       "  <thead>\n",
       "    <tr style=\"text-align: right;\">\n",
       "      <th></th>\n",
       "      <th>RowNumber</th>\n",
       "      <th>CustomerId</th>\n",
       "      <th>Surname</th>\n",
       "      <th>CreditScore</th>\n",
       "      <th>Geography</th>\n",
       "      <th>Gender</th>\n",
       "      <th>Age</th>\n",
       "      <th>Tenure</th>\n",
       "      <th>Balance</th>\n",
       "      <th>NumOfProducts</th>\n",
       "      <th>HasCrCard</th>\n",
       "      <th>IsActiveMember</th>\n",
       "      <th>EstimatedSalary</th>\n",
       "      <th>Exited</th>\n",
       "    </tr>\n",
       "  </thead>\n",
       "  <tbody>\n",
       "    <tr>\n",
       "      <th>0</th>\n",
       "      <td>1</td>\n",
       "      <td>15634602</td>\n",
       "      <td>Hargrave</td>\n",
       "      <td>619</td>\n",
       "      <td>France</td>\n",
       "      <td>Female</td>\n",
       "      <td>42</td>\n",
       "      <td>2</td>\n",
       "      <td>0.00</td>\n",
       "      <td>1</td>\n",
       "      <td>1</td>\n",
       "      <td>1</td>\n",
       "      <td>101348.88</td>\n",
       "      <td>1</td>\n",
       "    </tr>\n",
       "    <tr>\n",
       "      <th>1</th>\n",
       "      <td>2</td>\n",
       "      <td>15647311</td>\n",
       "      <td>Hill</td>\n",
       "      <td>608</td>\n",
       "      <td>Spain</td>\n",
       "      <td>Female</td>\n",
       "      <td>41</td>\n",
       "      <td>1</td>\n",
       "      <td>83807.86</td>\n",
       "      <td>1</td>\n",
       "      <td>0</td>\n",
       "      <td>1</td>\n",
       "      <td>112542.58</td>\n",
       "      <td>0</td>\n",
       "    </tr>\n",
       "    <tr>\n",
       "      <th>2</th>\n",
       "      <td>3</td>\n",
       "      <td>15619304</td>\n",
       "      <td>Onio</td>\n",
       "      <td>502</td>\n",
       "      <td>France</td>\n",
       "      <td>Female</td>\n",
       "      <td>42</td>\n",
       "      <td>8</td>\n",
       "      <td>159660.80</td>\n",
       "      <td>3</td>\n",
       "      <td>1</td>\n",
       "      <td>0</td>\n",
       "      <td>113931.57</td>\n",
       "      <td>1</td>\n",
       "    </tr>\n",
       "    <tr>\n",
       "      <th>3</th>\n",
       "      <td>4</td>\n",
       "      <td>15701354</td>\n",
       "      <td>Boni</td>\n",
       "      <td>699</td>\n",
       "      <td>France</td>\n",
       "      <td>Female</td>\n",
       "      <td>39</td>\n",
       "      <td>1</td>\n",
       "      <td>0.00</td>\n",
       "      <td>2</td>\n",
       "      <td>0</td>\n",
       "      <td>0</td>\n",
       "      <td>93826.63</td>\n",
       "      <td>0</td>\n",
       "    </tr>\n",
       "    <tr>\n",
       "      <th>4</th>\n",
       "      <td>5</td>\n",
       "      <td>15737888</td>\n",
       "      <td>Mitchell</td>\n",
       "      <td>850</td>\n",
       "      <td>Spain</td>\n",
       "      <td>Female</td>\n",
       "      <td>43</td>\n",
       "      <td>2</td>\n",
       "      <td>125510.82</td>\n",
       "      <td>1</td>\n",
       "      <td>1</td>\n",
       "      <td>1</td>\n",
       "      <td>79084.10</td>\n",
       "      <td>0</td>\n",
       "    </tr>\n",
       "  </tbody>\n",
       "</table>\n",
       "</div>"
      ],
      "text/plain": [
       "   RowNumber  CustomerId   Surname  CreditScore Geography  Gender  Age  \\\n",
       "0          1    15634602  Hargrave          619    France  Female   42   \n",
       "1          2    15647311      Hill          608     Spain  Female   41   \n",
       "2          3    15619304      Onio          502    France  Female   42   \n",
       "3          4    15701354      Boni          699    France  Female   39   \n",
       "4          5    15737888  Mitchell          850     Spain  Female   43   \n",
       "\n",
       "   Tenure    Balance  NumOfProducts  HasCrCard  IsActiveMember  \\\n",
       "0       2       0.00              1          1               1   \n",
       "1       1   83807.86              1          0               1   \n",
       "2       8  159660.80              3          1               0   \n",
       "3       1       0.00              2          0               0   \n",
       "4       2  125510.82              1          1               1   \n",
       "\n",
       "   EstimatedSalary  Exited  \n",
       "0        101348.88       1  \n",
       "1        112542.58       0  \n",
       "2        113931.57       1  \n",
       "3         93826.63       0  \n",
       "4         79084.10       0  "
      ]
     },
     "execution_count": 4,
     "metadata": {},
     "output_type": "execute_result"
    }
   ],
   "source": [
    "df.head()"
   ]
  },
  {
   "cell_type": "code",
   "execution_count": 5,
   "metadata": {
    "colab": {
     "base_uri": "https://localhost:8080/"
    },
    "id": "kt_gihNSiU3R",
    "outputId": "f650009b-1bd3-444a-daaf-923a93a54eda"
   },
   "outputs": [
    {
     "name": "stdout",
     "output_type": "stream",
     "text": [
      "<class 'pandas.core.frame.DataFrame'>\n",
      "RangeIndex: 10000 entries, 0 to 9999\n",
      "Data columns (total 14 columns):\n",
      " #   Column           Non-Null Count  Dtype  \n",
      "---  ------           --------------  -----  \n",
      " 0   RowNumber        10000 non-null  int64  \n",
      " 1   CustomerId       10000 non-null  int64  \n",
      " 2   Surname          10000 non-null  object \n",
      " 3   CreditScore      10000 non-null  int64  \n",
      " 4   Geography        10000 non-null  object \n",
      " 5   Gender           10000 non-null  object \n",
      " 6   Age              10000 non-null  int64  \n",
      " 7   Tenure           10000 non-null  int64  \n",
      " 8   Balance          10000 non-null  float64\n",
      " 9   NumOfProducts    10000 non-null  int64  \n",
      " 10  HasCrCard        10000 non-null  int64  \n",
      " 11  IsActiveMember   10000 non-null  int64  \n",
      " 12  EstimatedSalary  10000 non-null  float64\n",
      " 13  Exited           10000 non-null  int64  \n",
      "dtypes: float64(2), int64(9), object(3)\n",
      "memory usage: 1.1+ MB\n"
     ]
    }
   ],
   "source": [
    "df.info()"
   ]
  },
  {
   "cell_type": "code",
   "execution_count": 6,
   "metadata": {
    "colab": {
     "base_uri": "https://localhost:8080/"
    },
    "id": "sgqDVcuziU1J",
    "outputId": "3ad5c923-f03a-4210-87e4-cfb4fcce1990"
   },
   "outputs": [
    {
     "data": {
      "text/plain": [
       "0"
      ]
     },
     "execution_count": 6,
     "metadata": {},
     "output_type": "execute_result"
    }
   ],
   "source": [
    "df.duplicated().sum() #check duplicated row."
   ]
  },
  {
   "cell_type": "code",
   "execution_count": 7,
   "metadata": {
    "colab": {
     "base_uri": "https://localhost:8080/"
    },
    "id": "QTYEVW4FiUzR",
    "outputId": "5c7f9359-4078-402b-a7b0-4e685cae0dc0"
   },
   "outputs": [
    {
     "data": {
      "text/plain": [
       "0    7963\n",
       "1    2037\n",
       "Name: Exited, dtype: int64"
      ]
     },
     "execution_count": 7,
     "metadata": {},
     "output_type": "execute_result"
    }
   ],
   "source": [
    "df.Exited.value_counts() # Alternative way to find df['Exited'].value_counts()"
   ]
  },
  {
   "cell_type": "code",
   "execution_count": 8,
   "metadata": {
    "colab": {
     "base_uri": "https://localhost:8080/"
    },
    "id": "iarxat-FiUxK",
    "outputId": "695843b1-0352-48f4-a07f-0566dcc3d3e6"
   },
   "outputs": [
    {
     "data": {
      "text/plain": [
       "France     5014\n",
       "Germany    2509\n",
       "Spain      2477\n",
       "Name: Geography, dtype: int64"
      ]
     },
     "execution_count": 8,
     "metadata": {},
     "output_type": "execute_result"
    }
   ],
   "source": [
    "df.Geography.value_counts()"
   ]
  },
  {
   "cell_type": "code",
   "execution_count": 9,
   "metadata": {
    "colab": {
     "base_uri": "https://localhost:8080/"
    },
    "id": "JjDRTyK5iUu1",
    "outputId": "e16256b3-8619-4350-8c72-7b0ab7bd86a8"
   },
   "outputs": [
    {
     "data": {
      "text/plain": [
       "Male      5457\n",
       "Female    4543\n",
       "Name: Gender, dtype: int64"
      ]
     },
     "execution_count": 9,
     "metadata": {},
     "output_type": "execute_result"
    }
   ],
   "source": [
    "df.Gender.value_counts()"
   ]
  },
  {
   "cell_type": "code",
   "execution_count": 10,
   "metadata": {
    "id": "m7vOUbHhiUsy"
   },
   "outputs": [],
   "source": [
    "df.drop(columns=['RowNumber','CustomerId','Surname'], inplace=True)"
   ]
  },
  {
   "cell_type": "code",
   "execution_count": 11,
   "metadata": {
    "id": "QC6He883iUqZ"
   },
   "outputs": [],
   "source": [
    "df = pd.get_dummies(df,columns=['Geography','Gender'],drop_first=True)"
   ]
  },
  {
   "cell_type": "code",
   "execution_count": 12,
   "metadata": {
    "colab": {
     "base_uri": "https://localhost:8080/",
     "height": 270
    },
    "id": "aamIItgRiUoJ",
    "outputId": "a11164cc-697a-4307-a548-3411573add09"
   },
   "outputs": [
    {
     "data": {
      "text/html": [
       "<div>\n",
       "<style scoped>\n",
       "    .dataframe tbody tr th:only-of-type {\n",
       "        vertical-align: middle;\n",
       "    }\n",
       "\n",
       "    .dataframe tbody tr th {\n",
       "        vertical-align: top;\n",
       "    }\n",
       "\n",
       "    .dataframe thead th {\n",
       "        text-align: right;\n",
       "    }\n",
       "</style>\n",
       "<table border=\"1\" class=\"dataframe\">\n",
       "  <thead>\n",
       "    <tr style=\"text-align: right;\">\n",
       "      <th></th>\n",
       "      <th>CreditScore</th>\n",
       "      <th>Age</th>\n",
       "      <th>Tenure</th>\n",
       "      <th>Balance</th>\n",
       "      <th>NumOfProducts</th>\n",
       "      <th>HasCrCard</th>\n",
       "      <th>IsActiveMember</th>\n",
       "      <th>EstimatedSalary</th>\n",
       "      <th>Exited</th>\n",
       "      <th>Geography_Germany</th>\n",
       "      <th>Geography_Spain</th>\n",
       "      <th>Gender_Male</th>\n",
       "    </tr>\n",
       "  </thead>\n",
       "  <tbody>\n",
       "    <tr>\n",
       "      <th>0</th>\n",
       "      <td>619</td>\n",
       "      <td>42</td>\n",
       "      <td>2</td>\n",
       "      <td>0.00</td>\n",
       "      <td>1</td>\n",
       "      <td>1</td>\n",
       "      <td>1</td>\n",
       "      <td>101348.88</td>\n",
       "      <td>1</td>\n",
       "      <td>0</td>\n",
       "      <td>0</td>\n",
       "      <td>0</td>\n",
       "    </tr>\n",
       "    <tr>\n",
       "      <th>1</th>\n",
       "      <td>608</td>\n",
       "      <td>41</td>\n",
       "      <td>1</td>\n",
       "      <td>83807.86</td>\n",
       "      <td>1</td>\n",
       "      <td>0</td>\n",
       "      <td>1</td>\n",
       "      <td>112542.58</td>\n",
       "      <td>0</td>\n",
       "      <td>0</td>\n",
       "      <td>1</td>\n",
       "      <td>0</td>\n",
       "    </tr>\n",
       "    <tr>\n",
       "      <th>2</th>\n",
       "      <td>502</td>\n",
       "      <td>42</td>\n",
       "      <td>8</td>\n",
       "      <td>159660.80</td>\n",
       "      <td>3</td>\n",
       "      <td>1</td>\n",
       "      <td>0</td>\n",
       "      <td>113931.57</td>\n",
       "      <td>1</td>\n",
       "      <td>0</td>\n",
       "      <td>0</td>\n",
       "      <td>0</td>\n",
       "    </tr>\n",
       "    <tr>\n",
       "      <th>3</th>\n",
       "      <td>699</td>\n",
       "      <td>39</td>\n",
       "      <td>1</td>\n",
       "      <td>0.00</td>\n",
       "      <td>2</td>\n",
       "      <td>0</td>\n",
       "      <td>0</td>\n",
       "      <td>93826.63</td>\n",
       "      <td>0</td>\n",
       "      <td>0</td>\n",
       "      <td>0</td>\n",
       "      <td>0</td>\n",
       "    </tr>\n",
       "    <tr>\n",
       "      <th>4</th>\n",
       "      <td>850</td>\n",
       "      <td>43</td>\n",
       "      <td>2</td>\n",
       "      <td>125510.82</td>\n",
       "      <td>1</td>\n",
       "      <td>1</td>\n",
       "      <td>1</td>\n",
       "      <td>79084.10</td>\n",
       "      <td>0</td>\n",
       "      <td>0</td>\n",
       "      <td>1</td>\n",
       "      <td>0</td>\n",
       "    </tr>\n",
       "  </tbody>\n",
       "</table>\n",
       "</div>"
      ],
      "text/plain": [
       "   CreditScore  Age  Tenure    Balance  NumOfProducts  HasCrCard  \\\n",
       "0          619   42       2       0.00              1          1   \n",
       "1          608   41       1   83807.86              1          0   \n",
       "2          502   42       8  159660.80              3          1   \n",
       "3          699   39       1       0.00              2          0   \n",
       "4          850   43       2  125510.82              1          1   \n",
       "\n",
       "   IsActiveMember  EstimatedSalary  Exited  Geography_Germany  \\\n",
       "0               1        101348.88       1                  0   \n",
       "1               1        112542.58       0                  0   \n",
       "2               0        113931.57       1                  0   \n",
       "3               0         93826.63       0                  0   \n",
       "4               1         79084.10       0                  0   \n",
       "\n",
       "   Geography_Spain  Gender_Male  \n",
       "0                0            0  \n",
       "1                1            0  \n",
       "2                0            0  \n",
       "3                0            0  \n",
       "4                1            0  "
      ]
     },
     "execution_count": 12,
     "metadata": {},
     "output_type": "execute_result"
    }
   ],
   "source": [
    "df.head()"
   ]
  },
  {
   "cell_type": "code",
   "execution_count": 13,
   "metadata": {
    "id": "Xbe26mBjiUlx"
   },
   "outputs": [],
   "source": [
    "x = df.drop(columns=['Exited'])\n",
    "y = df['Exited']"
   ]
  },
  {
   "cell_type": "code",
   "execution_count": 14,
   "metadata": {
    "id": "_BGUzzbxiUjZ"
   },
   "outputs": [],
   "source": [
    "from sklearn.model_selection import train_test_split"
   ]
  },
  {
   "cell_type": "code",
   "execution_count": 15,
   "metadata": {
    "id": "oF544YDyiUg7"
   },
   "outputs": [],
   "source": [
    "x_train,x_test,y_train,y_test = train_test_split(x,y,test_size=0.2,random_state=0)"
   ]
  },
  {
   "cell_type": "code",
   "execution_count": 16,
   "metadata": {
    "id": "pipNfNqIiUeS"
   },
   "outputs": [],
   "source": [
    "from sklearn.preprocessing import StandardScaler"
   ]
  },
  {
   "cell_type": "code",
   "execution_count": 17,
   "metadata": {
    "id": "9na4reydiUbx"
   },
   "outputs": [],
   "source": [
    "scaler = StandardScaler()"
   ]
  },
  {
   "cell_type": "code",
   "execution_count": 18,
   "metadata": {
    "id": "yauJSIoYiUZS"
   },
   "outputs": [],
   "source": [
    "x_train_scaled = scaler.fit_transform(x_train)\n",
    "x_test_scaled = scaler.fit_transform(x_test)"
   ]
  },
  {
   "cell_type": "code",
   "execution_count": 19,
   "metadata": {
    "id": "o_I0ZiguiUTK"
   },
   "outputs": [],
   "source": [
    "import tensorflow\n",
    "from tensorflow import keras\n",
    "from tensorflow.keras import Sequential\n",
    "from tensorflow.keras.layers import Dense"
   ]
  },
  {
   "cell_type": "code",
   "execution_count": 20,
   "metadata": {
    "id": "NHDbE9_giUGD"
   },
   "outputs": [],
   "source": [
    "model = Sequential()\n",
    "\n",
    "#1 hiden layer\n",
    "# model.add(Dense(3,activation='sigmoid',input_dim = 11))\n",
    "# model.add(Dense(1,activation='sigmoid'))\n",
    "#2 hiden layer\n",
    "model.add(Dense(11,activation='relu',input_dim = 11))\n",
    "model.add(Dense(11,activation='relu',input_dim = 11))\n",
    "model.add(Dense(1,activation='sigmoid'))"
   ]
  },
  {
   "cell_type": "code",
   "execution_count": 21,
   "metadata": {
    "colab": {
     "base_uri": "https://localhost:8080/"
    },
    "id": "M8x8pRkFlg75",
    "outputId": "bb19d5a9-d1fe-4957-caf0-764c0ff7fb90"
   },
   "outputs": [
    {
     "name": "stdout",
     "output_type": "stream",
     "text": [
      "Model: \"sequential\"\n",
      "_________________________________________________________________\n",
      " Layer (type)                Output Shape              Param #   \n",
      "=================================================================\n",
      " dense (Dense)               (None, 11)                132       \n",
      "                                                                 \n",
      " dense_1 (Dense)             (None, 11)                132       \n",
      "                                                                 \n",
      " dense_2 (Dense)             (None, 1)                 12        \n",
      "                                                                 \n",
      "=================================================================\n",
      "Total params: 276 (1.08 KB)\n",
      "Trainable params: 276 (1.08 KB)\n",
      "Non-trainable params: 0 (0.00 Byte)\n",
      "_________________________________________________________________\n"
     ]
    }
   ],
   "source": [
    "model.summary()"
   ]
  },
  {
   "cell_type": "code",
   "execution_count": 22,
   "metadata": {
    "id": "zBv93INOmRFw"
   },
   "outputs": [],
   "source": [
    "model.compile(loss='binary_crossentropy',optimizer='Adam',metrics=['accuracy']) #model.compile(optimizer='Adam',loss='binary_crossentropy',metrics=['accuracy'])"
   ]
  },
  {
   "cell_type": "code",
   "execution_count": 23,
   "metadata": {
    "colab": {
     "base_uri": "https://localhost:8080/"
    },
    "id": "odjT3WYkojRK",
    "outputId": "498ec428-0116-4a15-bd07-70b9e1fddc97"
   },
   "outputs": [
    {
     "name": "stdout",
     "output_type": "stream",
     "text": [
      "Epoch 1/100\n",
      "200/200 [==============================] - 1s 2ms/step - loss: 0.6321 - accuracy: 0.6538 - val_loss: 0.4823 - val_accuracy: 0.7969\n",
      "Epoch 2/100\n",
      "200/200 [==============================] - 0s 1ms/step - loss: 0.4641 - accuracy: 0.7955 - val_loss: 0.4526 - val_accuracy: 0.7962\n",
      "Epoch 3/100\n",
      "200/200 [==============================] - 0s 1ms/step - loss: 0.4431 - accuracy: 0.7961 - val_loss: 0.4393 - val_accuracy: 0.8006\n",
      "Epoch 4/100\n",
      "200/200 [==============================] - 0s 1ms/step - loss: 0.4323 - accuracy: 0.8073 - val_loss: 0.4318 - val_accuracy: 0.8150\n",
      "Epoch 5/100\n",
      "200/200 [==============================] - 0s 1ms/step - loss: 0.4251 - accuracy: 0.8138 - val_loss: 0.4270 - val_accuracy: 0.8175\n",
      "Epoch 6/100\n",
      "200/200 [==============================] - 0s 1ms/step - loss: 0.4189 - accuracy: 0.8169 - val_loss: 0.4208 - val_accuracy: 0.8231\n",
      "Epoch 7/100\n",
      "200/200 [==============================] - 0s 1ms/step - loss: 0.4116 - accuracy: 0.8239 - val_loss: 0.4140 - val_accuracy: 0.8263\n",
      "Epoch 8/100\n",
      "200/200 [==============================] - 0s 1ms/step - loss: 0.4020 - accuracy: 0.8333 - val_loss: 0.4039 - val_accuracy: 0.8281\n",
      "Epoch 9/100\n",
      "200/200 [==============================] - 0s 1ms/step - loss: 0.3905 - accuracy: 0.8383 - val_loss: 0.3924 - val_accuracy: 0.8306\n",
      "Epoch 10/100\n",
      "200/200 [==============================] - 0s 1ms/step - loss: 0.3785 - accuracy: 0.8467 - val_loss: 0.3817 - val_accuracy: 0.8381\n",
      "Epoch 11/100\n",
      "200/200 [==============================] - 0s 1ms/step - loss: 0.3675 - accuracy: 0.8503 - val_loss: 0.3718 - val_accuracy: 0.8462\n",
      "Epoch 12/100\n",
      "200/200 [==============================] - 0s 1ms/step - loss: 0.3586 - accuracy: 0.8536 - val_loss: 0.3665 - val_accuracy: 0.8487\n",
      "Epoch 13/100\n",
      "200/200 [==============================] - 0s 1ms/step - loss: 0.3532 - accuracy: 0.8555 - val_loss: 0.3608 - val_accuracy: 0.8550\n",
      "Epoch 14/100\n",
      "200/200 [==============================] - 0s 1ms/step - loss: 0.3488 - accuracy: 0.8561 - val_loss: 0.3592 - val_accuracy: 0.8537\n",
      "Epoch 15/100\n",
      "200/200 [==============================] - 0s 1ms/step - loss: 0.3461 - accuracy: 0.8555 - val_loss: 0.3576 - val_accuracy: 0.8537\n",
      "Epoch 16/100\n",
      "200/200 [==============================] - 0s 1ms/step - loss: 0.3437 - accuracy: 0.8567 - val_loss: 0.3561 - val_accuracy: 0.8556\n",
      "Epoch 17/100\n",
      "200/200 [==============================] - 0s 1ms/step - loss: 0.3422 - accuracy: 0.8586 - val_loss: 0.3558 - val_accuracy: 0.8550\n",
      "Epoch 18/100\n",
      "200/200 [==============================] - 0s 1ms/step - loss: 0.3407 - accuracy: 0.8597 - val_loss: 0.3552 - val_accuracy: 0.8556\n",
      "Epoch 19/100\n",
      "200/200 [==============================] - 0s 1ms/step - loss: 0.3396 - accuracy: 0.8594 - val_loss: 0.3550 - val_accuracy: 0.8531\n",
      "Epoch 20/100\n",
      "200/200 [==============================] - 0s 1ms/step - loss: 0.3389 - accuracy: 0.8597 - val_loss: 0.3534 - val_accuracy: 0.8556\n",
      "Epoch 21/100\n",
      "200/200 [==============================] - 0s 1ms/step - loss: 0.3374 - accuracy: 0.8594 - val_loss: 0.3534 - val_accuracy: 0.8562\n",
      "Epoch 22/100\n",
      "200/200 [==============================] - 0s 1ms/step - loss: 0.3371 - accuracy: 0.8587 - val_loss: 0.3533 - val_accuracy: 0.8537\n",
      "Epoch 23/100\n",
      "200/200 [==============================] - 0s 1ms/step - loss: 0.3366 - accuracy: 0.8598 - val_loss: 0.3520 - val_accuracy: 0.8569\n",
      "Epoch 24/100\n",
      "200/200 [==============================] - 0s 1ms/step - loss: 0.3355 - accuracy: 0.8611 - val_loss: 0.3513 - val_accuracy: 0.8550\n",
      "Epoch 25/100\n",
      "200/200 [==============================] - 0s 1ms/step - loss: 0.3348 - accuracy: 0.8611 - val_loss: 0.3521 - val_accuracy: 0.8575\n",
      "Epoch 26/100\n",
      "200/200 [==============================] - 0s 1ms/step - loss: 0.3346 - accuracy: 0.8623 - val_loss: 0.3507 - val_accuracy: 0.8531\n",
      "Epoch 27/100\n",
      "200/200 [==============================] - 0s 1ms/step - loss: 0.3335 - accuracy: 0.8614 - val_loss: 0.3511 - val_accuracy: 0.8575\n",
      "Epoch 28/100\n",
      "200/200 [==============================] - 0s 1ms/step - loss: 0.3335 - accuracy: 0.8620 - val_loss: 0.3508 - val_accuracy: 0.8544\n",
      "Epoch 29/100\n",
      "200/200 [==============================] - 0s 1ms/step - loss: 0.3333 - accuracy: 0.8641 - val_loss: 0.3501 - val_accuracy: 0.8512\n",
      "Epoch 30/100\n",
      "200/200 [==============================] - 0s 1ms/step - loss: 0.3330 - accuracy: 0.8622 - val_loss: 0.3490 - val_accuracy: 0.8537\n",
      "Epoch 31/100\n",
      "200/200 [==============================] - 0s 1ms/step - loss: 0.3321 - accuracy: 0.8612 - val_loss: 0.3507 - val_accuracy: 0.8562\n",
      "Epoch 32/100\n",
      "200/200 [==============================] - 0s 1ms/step - loss: 0.3315 - accuracy: 0.8620 - val_loss: 0.3482 - val_accuracy: 0.8556\n",
      "Epoch 33/100\n",
      "200/200 [==============================] - 0s 1ms/step - loss: 0.3311 - accuracy: 0.8634 - val_loss: 0.3472 - val_accuracy: 0.8594\n",
      "Epoch 34/100\n",
      "200/200 [==============================] - 0s 1ms/step - loss: 0.3311 - accuracy: 0.8631 - val_loss: 0.3474 - val_accuracy: 0.8569\n",
      "Epoch 35/100\n",
      "200/200 [==============================] - 0s 1ms/step - loss: 0.3307 - accuracy: 0.8633 - val_loss: 0.3473 - val_accuracy: 0.8562\n",
      "Epoch 36/100\n",
      "200/200 [==============================] - 0s 1ms/step - loss: 0.3298 - accuracy: 0.8636 - val_loss: 0.3469 - val_accuracy: 0.8556\n",
      "Epoch 37/100\n",
      "200/200 [==============================] - 0s 1ms/step - loss: 0.3301 - accuracy: 0.8619 - val_loss: 0.3469 - val_accuracy: 0.8575\n",
      "Epoch 38/100\n",
      "200/200 [==============================] - 0s 1ms/step - loss: 0.3300 - accuracy: 0.8633 - val_loss: 0.3466 - val_accuracy: 0.8556\n",
      "Epoch 39/100\n",
      "200/200 [==============================] - 0s 1ms/step - loss: 0.3291 - accuracy: 0.8644 - val_loss: 0.3470 - val_accuracy: 0.8569\n",
      "Epoch 40/100\n",
      "200/200 [==============================] - 0s 1ms/step - loss: 0.3286 - accuracy: 0.8650 - val_loss: 0.3469 - val_accuracy: 0.8581\n",
      "Epoch 41/100\n",
      "200/200 [==============================] - 0s 2ms/step - loss: 0.3288 - accuracy: 0.8639 - val_loss: 0.3468 - val_accuracy: 0.8575\n",
      "Epoch 42/100\n",
      "200/200 [==============================] - 0s 1ms/step - loss: 0.3282 - accuracy: 0.8650 - val_loss: 0.3464 - val_accuracy: 0.8569\n",
      "Epoch 43/100\n",
      "200/200 [==============================] - 0s 1ms/step - loss: 0.3281 - accuracy: 0.8644 - val_loss: 0.3462 - val_accuracy: 0.8600\n",
      "Epoch 44/100\n",
      "200/200 [==============================] - 0s 1ms/step - loss: 0.3279 - accuracy: 0.8648 - val_loss: 0.3458 - val_accuracy: 0.8562\n",
      "Epoch 45/100\n",
      "200/200 [==============================] - 0s 2ms/step - loss: 0.3281 - accuracy: 0.8648 - val_loss: 0.3457 - val_accuracy: 0.8562\n",
      "Epoch 46/100\n",
      "200/200 [==============================] - 0s 2ms/step - loss: 0.3271 - accuracy: 0.8650 - val_loss: 0.3455 - val_accuracy: 0.8612\n",
      "Epoch 47/100\n",
      "200/200 [==============================] - 0s 1ms/step - loss: 0.3269 - accuracy: 0.8658 - val_loss: 0.3444 - val_accuracy: 0.8594\n",
      "Epoch 48/100\n",
      "200/200 [==============================] - 0s 2ms/step - loss: 0.3266 - accuracy: 0.8653 - val_loss: 0.3448 - val_accuracy: 0.8606\n",
      "Epoch 49/100\n",
      "200/200 [==============================] - 0s 2ms/step - loss: 0.3266 - accuracy: 0.8661 - val_loss: 0.3460 - val_accuracy: 0.8587\n",
      "Epoch 50/100\n",
      "200/200 [==============================] - 0s 1ms/step - loss: 0.3262 - accuracy: 0.8644 - val_loss: 0.3454 - val_accuracy: 0.8569\n",
      "Epoch 51/100\n",
      "200/200 [==============================] - 0s 1ms/step - loss: 0.3260 - accuracy: 0.8653 - val_loss: 0.3456 - val_accuracy: 0.8587\n",
      "Epoch 52/100\n",
      "200/200 [==============================] - 0s 1ms/step - loss: 0.3257 - accuracy: 0.8661 - val_loss: 0.3455 - val_accuracy: 0.8587\n",
      "Epoch 53/100\n",
      "200/200 [==============================] - 0s 2ms/step - loss: 0.3249 - accuracy: 0.8675 - val_loss: 0.3465 - val_accuracy: 0.8581\n",
      "Epoch 54/100\n",
      "200/200 [==============================] - 0s 1ms/step - loss: 0.3257 - accuracy: 0.8672 - val_loss: 0.3446 - val_accuracy: 0.8594\n",
      "Epoch 55/100\n",
      "200/200 [==============================] - 0s 1ms/step - loss: 0.3241 - accuracy: 0.8667 - val_loss: 0.3443 - val_accuracy: 0.8606\n",
      "Epoch 56/100\n",
      "200/200 [==============================] - 0s 1ms/step - loss: 0.3237 - accuracy: 0.8666 - val_loss: 0.3449 - val_accuracy: 0.8631\n",
      "Epoch 57/100\n",
      "200/200 [==============================] - 0s 1ms/step - loss: 0.3241 - accuracy: 0.8656 - val_loss: 0.3445 - val_accuracy: 0.8612\n"
     ]
    },
    {
     "name": "stdout",
     "output_type": "stream",
     "text": [
      "Epoch 58/100\n",
      "200/200 [==============================] - 0s 1ms/step - loss: 0.3239 - accuracy: 0.8653 - val_loss: 0.3447 - val_accuracy: 0.8569\n",
      "Epoch 59/100\n",
      "200/200 [==============================] - 0s 1ms/step - loss: 0.3242 - accuracy: 0.8659 - val_loss: 0.3450 - val_accuracy: 0.8594\n",
      "Epoch 60/100\n",
      "200/200 [==============================] - 0s 1ms/step - loss: 0.3231 - accuracy: 0.8687 - val_loss: 0.3432 - val_accuracy: 0.8600\n",
      "Epoch 61/100\n",
      "200/200 [==============================] - 0s 1ms/step - loss: 0.3231 - accuracy: 0.8662 - val_loss: 0.3447 - val_accuracy: 0.8562\n",
      "Epoch 62/100\n",
      "200/200 [==============================] - 0s 1ms/step - loss: 0.3233 - accuracy: 0.8659 - val_loss: 0.3431 - val_accuracy: 0.8606\n",
      "Epoch 63/100\n",
      "200/200 [==============================] - 0s 1ms/step - loss: 0.3223 - accuracy: 0.8681 - val_loss: 0.3435 - val_accuracy: 0.8575\n",
      "Epoch 64/100\n",
      "200/200 [==============================] - 0s 1ms/step - loss: 0.3217 - accuracy: 0.8653 - val_loss: 0.3436 - val_accuracy: 0.8625\n",
      "Epoch 65/100\n",
      "200/200 [==============================] - 0s 1ms/step - loss: 0.3223 - accuracy: 0.8672 - val_loss: 0.3427 - val_accuracy: 0.8612\n",
      "Epoch 66/100\n",
      "200/200 [==============================] - 0s 1ms/step - loss: 0.3222 - accuracy: 0.8684 - val_loss: 0.3416 - val_accuracy: 0.8606\n",
      "Epoch 67/100\n",
      "200/200 [==============================] - 0s 1ms/step - loss: 0.3220 - accuracy: 0.8670 - val_loss: 0.3432 - val_accuracy: 0.8600\n",
      "Epoch 68/100\n",
      "200/200 [==============================] - 0s 1ms/step - loss: 0.3216 - accuracy: 0.8670 - val_loss: 0.3441 - val_accuracy: 0.8575\n",
      "Epoch 69/100\n",
      "200/200 [==============================] - 0s 1ms/step - loss: 0.3215 - accuracy: 0.8666 - val_loss: 0.3418 - val_accuracy: 0.8600\n",
      "Epoch 70/100\n",
      "200/200 [==============================] - 0s 1ms/step - loss: 0.3222 - accuracy: 0.8675 - val_loss: 0.3429 - val_accuracy: 0.8606\n",
      "Epoch 71/100\n",
      "200/200 [==============================] - 0s 1ms/step - loss: 0.3206 - accuracy: 0.8672 - val_loss: 0.3425 - val_accuracy: 0.8625\n",
      "Epoch 72/100\n",
      "200/200 [==============================] - 0s 1ms/step - loss: 0.3207 - accuracy: 0.8683 - val_loss: 0.3436 - val_accuracy: 0.8575\n",
      "Epoch 73/100\n",
      "200/200 [==============================] - 0s 1ms/step - loss: 0.3207 - accuracy: 0.8691 - val_loss: 0.3422 - val_accuracy: 0.8619\n",
      "Epoch 74/100\n",
      "200/200 [==============================] - 0s 1ms/step - loss: 0.3209 - accuracy: 0.8670 - val_loss: 0.3413 - val_accuracy: 0.8644\n",
      "Epoch 75/100\n",
      "200/200 [==============================] - 0s 1ms/step - loss: 0.3210 - accuracy: 0.8677 - val_loss: 0.3426 - val_accuracy: 0.8581\n",
      "Epoch 76/100\n",
      "200/200 [==============================] - 0s 1ms/step - loss: 0.3202 - accuracy: 0.8677 - val_loss: 0.3421 - val_accuracy: 0.8644\n",
      "Epoch 77/100\n",
      "200/200 [==============================] - 0s 1ms/step - loss: 0.3204 - accuracy: 0.8681 - val_loss: 0.3425 - val_accuracy: 0.8612\n",
      "Epoch 78/100\n",
      "200/200 [==============================] - 0s 1ms/step - loss: 0.3203 - accuracy: 0.8687 - val_loss: 0.3430 - val_accuracy: 0.8587\n",
      "Epoch 79/100\n",
      "200/200 [==============================] - 0s 1ms/step - loss: 0.3200 - accuracy: 0.8684 - val_loss: 0.3463 - val_accuracy: 0.8625\n",
      "Epoch 80/100\n",
      "200/200 [==============================] - 0s 1ms/step - loss: 0.3201 - accuracy: 0.8700 - val_loss: 0.3431 - val_accuracy: 0.8669\n",
      "Epoch 81/100\n",
      "200/200 [==============================] - 0s 1ms/step - loss: 0.3199 - accuracy: 0.8678 - val_loss: 0.3436 - val_accuracy: 0.8587\n",
      "Epoch 82/100\n",
      "200/200 [==============================] - 0s 1ms/step - loss: 0.3198 - accuracy: 0.8689 - val_loss: 0.3433 - val_accuracy: 0.8562\n",
      "Epoch 83/100\n",
      "200/200 [==============================] - 0s 1ms/step - loss: 0.3189 - accuracy: 0.8686 - val_loss: 0.3436 - val_accuracy: 0.8587\n",
      "Epoch 84/100\n",
      "200/200 [==============================] - 0s 1ms/step - loss: 0.3197 - accuracy: 0.8664 - val_loss: 0.3450 - val_accuracy: 0.8619\n",
      "Epoch 85/100\n",
      "200/200 [==============================] - 0s 1ms/step - loss: 0.3191 - accuracy: 0.8680 - val_loss: 0.3447 - val_accuracy: 0.8575\n",
      "Epoch 86/100\n",
      "200/200 [==============================] - 0s 1ms/step - loss: 0.3186 - accuracy: 0.8673 - val_loss: 0.3445 - val_accuracy: 0.8600\n",
      "Epoch 87/100\n",
      "200/200 [==============================] - 0s 1ms/step - loss: 0.3196 - accuracy: 0.8664 - val_loss: 0.3434 - val_accuracy: 0.8606\n",
      "Epoch 88/100\n",
      "200/200 [==============================] - 0s 1ms/step - loss: 0.3193 - accuracy: 0.8684 - val_loss: 0.3434 - val_accuracy: 0.8606\n",
      "Epoch 89/100\n",
      "200/200 [==============================] - 0s 1ms/step - loss: 0.3192 - accuracy: 0.8694 - val_loss: 0.3439 - val_accuracy: 0.8587\n",
      "Epoch 90/100\n",
      "200/200 [==============================] - 0s 1ms/step - loss: 0.3192 - accuracy: 0.8677 - val_loss: 0.3435 - val_accuracy: 0.8594\n",
      "Epoch 91/100\n",
      "200/200 [==============================] - 0s 1ms/step - loss: 0.3183 - accuracy: 0.8677 - val_loss: 0.3447 - val_accuracy: 0.8631\n",
      "Epoch 92/100\n",
      "200/200 [==============================] - 0s 1ms/step - loss: 0.3191 - accuracy: 0.8680 - val_loss: 0.3438 - val_accuracy: 0.8637\n",
      "Epoch 93/100\n",
      "200/200 [==============================] - 0s 1ms/step - loss: 0.3187 - accuracy: 0.8686 - val_loss: 0.3428 - val_accuracy: 0.8631\n",
      "Epoch 94/100\n",
      "200/200 [==============================] - 0s 1ms/step - loss: 0.3188 - accuracy: 0.8681 - val_loss: 0.3429 - val_accuracy: 0.8625\n",
      "Epoch 95/100\n",
      "200/200 [==============================] - 0s 1ms/step - loss: 0.3186 - accuracy: 0.8677 - val_loss: 0.3449 - val_accuracy: 0.8587\n",
      "Epoch 96/100\n",
      "200/200 [==============================] - 0s 1ms/step - loss: 0.3183 - accuracy: 0.8684 - val_loss: 0.3438 - val_accuracy: 0.8587\n",
      "Epoch 97/100\n",
      "200/200 [==============================] - 0s 1ms/step - loss: 0.3184 - accuracy: 0.8684 - val_loss: 0.3438 - val_accuracy: 0.8662\n",
      "Epoch 98/100\n",
      "200/200 [==============================] - 0s 1ms/step - loss: 0.3179 - accuracy: 0.8683 - val_loss: 0.3437 - val_accuracy: 0.8606\n",
      "Epoch 99/100\n",
      "200/200 [==============================] - 0s 1ms/step - loss: 0.3182 - accuracy: 0.8659 - val_loss: 0.3436 - val_accuracy: 0.8587\n",
      "Epoch 100/100\n",
      "200/200 [==============================] - 0s 1ms/step - loss: 0.3181 - accuracy: 0.8694 - val_loss: 0.3435 - val_accuracy: 0.8594\n"
     ]
    }
   ],
   "source": [
    "history = model.fit(x_train_scaled,y_train,epochs=100, validation_split=0.2)"
   ]
  },
  {
   "cell_type": "code",
   "execution_count": 24,
   "metadata": {
    "colab": {
     "base_uri": "https://localhost:8080/"
    },
    "id": "SzT7iAm_qIrc",
    "outputId": "720651e7-fcd4-4db4-ec35-94cab891b34e"
   },
   "outputs": [
    {
     "data": {
      "text/plain": [
       "[array([[ 7.39296898e-02, -3.02216299e-02, -1.65930837e-02,\n",
       "         -3.88195850e-02,  1.11208037e-01,  4.99026254e-02,\n",
       "          1.40084490e-01, -6.69748113e-02,  3.88747677e-02,\n",
       "          1.82518065e-01, -3.30907516e-02],\n",
       "        [-9.49357271e-01,  1.53608872e-02, -1.27526596e-01,\n",
       "         -4.19026345e-01, -7.18018472e-01,  6.58981562e-01,\n",
       "         -9.67737615e-01,  2.83916831e-01,  6.49188280e-01,\n",
       "          5.59440672e-01, -1.38061479e-01],\n",
       "        [-1.01613568e-03, -5.32503910e-02, -1.41585648e-01,\n",
       "         -4.73673828e-02,  8.85952488e-02,  3.22407395e-01,\n",
       "          3.02867055e-01,  1.93222776e-01, -9.08084810e-02,\n",
       "          9.65512171e-02, -2.06516355e-01],\n",
       "        [ 1.76402733e-01, -6.64838031e-02, -2.44624764e-01,\n",
       "         -1.27311814e+00, -3.57107520e-01, -9.12630439e-01,\n",
       "         -3.98735344e-01, -3.57411772e-01, -2.18397260e-01,\n",
       "          4.29965258e-01, -6.39228046e-01],\n",
       "        [-1.27564603e-02,  1.40473294e+00, -9.05127466e-01,\n",
       "         -8.85023952e-01,  2.34159991e-01, -6.39819026e-01,\n",
       "         -2.05531359e-01,  7.89428428e-02,  1.59101203e-01,\n",
       "         -1.16512701e-01,  2.74129510e-01],\n",
       "        [ 5.61970659e-02, -8.63078237e-02, -5.14867790e-02,\n",
       "          8.49632770e-02, -9.04564783e-02,  2.06735536e-01,\n",
       "          6.06478155e-02,  2.61031594e-02,  2.82180130e-01,\n",
       "          3.07903558e-01, -5.22772968e-01],\n",
       "        [-4.83192086e-01, -2.14641199e-01, -4.31754410e-01,\n",
       "          5.40618561e-02, -2.62044966e-01,  6.59131631e-02,\n",
       "         -3.95510554e-01,  6.58552110e-01,  6.36037707e-01,\n",
       "         -2.77626574e-01,  1.99616998e-01],\n",
       "        [ 2.47231703e-02,  1.10679120e-02,  1.06049031e-01,\n",
       "          3.73383425e-02, -1.01581700e-01,  1.86410546e-01,\n",
       "         -1.28890917e-01, -6.73296824e-02,  2.47776762e-01,\n",
       "         -6.55578077e-02, -3.09188932e-01],\n",
       "        [-5.74508049e-02, -2.17488602e-01,  2.86599189e-01,\n",
       "         -3.45849544e-01, -2.71739691e-01, -6.18772566e-01,\n",
       "         -6.47387952e-02, -5.67096353e-01,  4.76564944e-01,\n",
       "          3.34661603e-01,  1.53077096e-01],\n",
       "        [ 1.41291730e-02,  3.69465023e-01,  1.97633803e-02,\n",
       "         -1.36167601e-01, -7.80850947e-01,  4.40025032e-01,\n",
       "          3.72421116e-01,  1.43795669e-01,  1.29379675e-01,\n",
       "          5.24016693e-02,  7.77306795e-01],\n",
       "        [ 1.74518049e-01,  2.87284911e-01,  2.73564577e-01,\n",
       "          1.56978872e-02, -5.95927201e-02,  2.42559224e-01,\n",
       "         -4.90431458e-01,  4.53675300e-01,  1.24411546e-01,\n",
       "         -8.60881284e-02,  3.93075228e-01]], dtype=float32),\n",
       " array([ 1.1101638 , -0.48444983,  0.33486363,  0.24307838,  0.5921746 ,\n",
       "        -0.25830486, -0.01606773,  0.44861957,  0.28813538, -0.28036293,\n",
       "         0.02485591], dtype=float32)]"
      ]
     },
     "execution_count": 24,
     "metadata": {},
     "output_type": "execute_result"
    }
   ],
   "source": [
    "model.layers[0].get_weights()"
   ]
  },
  {
   "cell_type": "code",
   "execution_count": 25,
   "metadata": {
    "colab": {
     "base_uri": "https://localhost:8080/"
    },
    "id": "8z5hIwhArST2",
    "outputId": "8d5d2f3d-95eb-4a00-be1f-64dc0be777cc"
   },
   "outputs": [
    {
     "data": {
      "text/plain": [
       "[array([[-7.16970041e-02,  3.30967128e-01,  5.93539476e-01,\n",
       "          2.48667657e-01, -2.46150896e-01, -6.82697743e-02,\n",
       "          8.90693486e-01, -3.29778135e-01,  6.34014845e-01,\n",
       "         -9.63744998e-01, -4.57707524e-01],\n",
       "        [ 4.88184541e-01, -2.43483767e-01, -8.60221013e-02,\n",
       "         -1.18558049e+00,  8.86337340e-01, -2.05856696e-01,\n",
       "         -2.03697950e-01, -1.89747047e+00,  8.51147473e-02,\n",
       "          7.81088710e-01,  5.65804899e-01],\n",
       "        [ 5.31776428e-01, -1.64687216e-01, -1.32045403e-01,\n",
       "          5.76050997e-01, -3.64304125e-01,  4.88861129e-02,\n",
       "         -1.41760617e-01, -3.01909372e-02,  3.59844029e-01,\n",
       "          5.75916171e-01,  1.02271862e-01],\n",
       "        [-6.63942993e-01,  5.20019889e-01,  1.32990971e-01,\n",
       "          3.18603665e-01,  5.75446263e-02, -5.57361059e-02,\n",
       "          7.00501978e-01,  8.28210890e-01,  1.32725458e-03,\n",
       "          1.71343088e-01, -4.28260304e-02],\n",
       "        [-1.92728192e-01,  2.67495625e-02, -2.30989292e-01,\n",
       "          3.97610962e-01,  4.07726198e-01,  5.74141204e-01,\n",
       "          2.37184480e-01, -1.20773435e-01,  5.62073244e-03,\n",
       "         -5.41684508e-01, -1.53707266e-01],\n",
       "        [ 2.36530498e-01,  4.21528131e-01,  7.51517534e-01,\n",
       "          4.29292172e-01,  1.97906852e-01, -3.11190188e-01,\n",
       "         -8.09527412e-02,  8.29974651e-01,  6.72420859e-01,\n",
       "         -3.56814675e-02,  3.28067392e-01],\n",
       "        [ 5.86923182e-01,  2.58927763e-01,  6.94333166e-02,\n",
       "          1.41691789e-01, -4.84228700e-01, -4.88424182e-01,\n",
       "         -1.53879821e-01,  1.65502876e-01,  3.92107308e-01,\n",
       "         -9.84318256e-01, -4.40779150e-01],\n",
       "        [-4.51068014e-01, -6.51201606e-02,  6.60517931e-01,\n",
       "         -3.87081563e-01, -5.58330655e-01,  1.67909667e-01,\n",
       "          2.93328404e-01, -2.76332259e-01,  5.89480959e-02,\n",
       "          1.97333902e-01, -8.10136855e-01],\n",
       "        [-1.09829202e-01,  6.99300110e-01,  2.58596241e-01,\n",
       "          2.43120678e-02,  3.21323499e-02, -3.49075869e-02,\n",
       "          7.37771630e-01, -7.83996582e-02, -1.15083456e-01,\n",
       "         -4.74606156e-02,  6.96387663e-02],\n",
       "        [ 4.90103811e-01,  3.09854206e-02, -1.86917968e-02,\n",
       "         -1.87952921e-01,  1.30386531e-01, -8.10976386e-01,\n",
       "          3.94128889e-01, -3.85975838e-01, -1.54389277e-01,\n",
       "          1.59658924e-01,  2.42354870e-02],\n",
       "        [ 1.80179775e-01,  7.07456648e-01,  2.05549538e-01,\n",
       "         -4.52679247e-02, -5.23184717e-01,  1.56802937e-01,\n",
       "          4.42970134e-02,  4.23592001e-01,  7.03839660e-01,\n",
       "          3.91679816e-02, -2.70049214e-01]], dtype=float32),\n",
       " array([-0.05700282,  0.2109792 ,  0.2359744 ,  0.02178296,  0.01642176,\n",
       "         0.42673925,  0.0953576 , -0.17832066,  0.16757579,  0.6734868 ,\n",
       "         0.29087326], dtype=float32)]"
      ]
     },
     "execution_count": 25,
     "metadata": {},
     "output_type": "execute_result"
    }
   ],
   "source": [
    "model.layers[1].get_weights()"
   ]
  },
  {
   "cell_type": "code",
   "execution_count": 26,
   "metadata": {
    "colab": {
     "base_uri": "https://localhost:8080/"
    },
    "id": "AWEv7wY50dax",
    "outputId": "91305caa-4865-412d-9097-793e2b389c6b"
   },
   "outputs": [
    {
     "data": {
      "text/plain": [
       "[array([[ 0.58239055],\n",
       "        [-0.6187861 ],\n",
       "        [-0.4094192 ],\n",
       "        [ 0.5090009 ],\n",
       "        [ 1.1852164 ],\n",
       "        [-1.0963454 ],\n",
       "        [-0.46284178],\n",
       "        [ 1.0025849 ],\n",
       "        [-0.16336928],\n",
       "        [ 1.3006593 ],\n",
       "        [ 1.1000861 ]], dtype=float32),\n",
       " array([-0.03092771], dtype=float32)]"
      ]
     },
     "execution_count": 26,
     "metadata": {},
     "output_type": "execute_result"
    }
   ],
   "source": [
    "model.layers[2].get_weights()"
   ]
  },
  {
   "cell_type": "code",
   "execution_count": 27,
   "metadata": {
    "colab": {
     "base_uri": "https://localhost:8080/"
    },
    "id": "5zpxZmiqrlw1",
    "outputId": "08f177e1-4543-42b0-8da6-c42925f20efa"
   },
   "outputs": [
    {
     "name": "stdout",
     "output_type": "stream",
     "text": [
      "63/63 [==============================] - 0s 1ms/step\n"
     ]
    }
   ],
   "source": [
    "y_log = model.predict(x_test_scaled)"
   ]
  },
  {
   "cell_type": "code",
   "execution_count": 28,
   "metadata": {
    "id": "7Q27mjscs2x1"
   },
   "outputs": [],
   "source": [
    "y_pred = np.where(y_log>0.5,1,0)"
   ]
  },
  {
   "cell_type": "code",
   "execution_count": 29,
   "metadata": {
    "id": "OmIw0zgotJKA"
   },
   "outputs": [],
   "source": [
    "from sklearn.metrics import accuracy_score"
   ]
  },
  {
   "cell_type": "code",
   "execution_count": 30,
   "metadata": {
    "colab": {
     "base_uri": "https://localhost:8080/"
    },
    "id": "UN8W4Z9rtXxT",
    "outputId": "7e323a0c-1cc5-4b12-e782-93b3e404119c"
   },
   "outputs": [
    {
     "data": {
      "text/plain": [
       "0.859"
      ]
     },
     "execution_count": 30,
     "metadata": {},
     "output_type": "execute_result"
    }
   ],
   "source": [
    "accuracy_score(y_test,y_pred)"
   ]
  },
  {
   "cell_type": "code",
   "execution_count": 31,
   "metadata": {
    "id": "094dXSOytcBa"
   },
   "outputs": [],
   "source": [
    "import matplotlib.pyplot as plt"
   ]
  },
  {
   "cell_type": "code",
   "execution_count": 32,
   "metadata": {
    "colab": {
     "base_uri": "https://localhost:8080/"
    },
    "id": "28srAcsF1dIV",
    "outputId": "247c65e2-52a0-421f-cbf4-394ea614dd24"
   },
   "outputs": [
    {
     "data": {
      "text/plain": [
       "{'loss': [0.6321206092834473,\n",
       "  0.46406227350234985,\n",
       "  0.44314244389533997,\n",
       "  0.43227261304855347,\n",
       "  0.42512381076812744,\n",
       "  0.41894325613975525,\n",
       "  0.4116104245185852,\n",
       "  0.4020041525363922,\n",
       "  0.39048659801483154,\n",
       "  0.3784729838371277,\n",
       "  0.3674570322036743,\n",
       "  0.35862109065055847,\n",
       "  0.3531739115715027,\n",
       "  0.34883010387420654,\n",
       "  0.34613236784935,\n",
       "  0.34369605779647827,\n",
       "  0.3422309458255768,\n",
       "  0.3407195210456848,\n",
       "  0.3396300971508026,\n",
       "  0.33892878890037537,\n",
       "  0.3374330997467041,\n",
       "  0.3371094763278961,\n",
       "  0.33655697107315063,\n",
       "  0.3354588747024536,\n",
       "  0.3348345458507538,\n",
       "  0.33460715413093567,\n",
       "  0.333469957113266,\n",
       "  0.3334839642047882,\n",
       "  0.3332679867744446,\n",
       "  0.3329787850379944,\n",
       "  0.3320719599723816,\n",
       "  0.33145222067832947,\n",
       "  0.33106744289398193,\n",
       "  0.3310934007167816,\n",
       "  0.33071067929267883,\n",
       "  0.3297514319419861,\n",
       "  0.3301314115524292,\n",
       "  0.32995784282684326,\n",
       "  0.329121470451355,\n",
       "  0.32862046360969543,\n",
       "  0.3288267254829407,\n",
       "  0.3282283842563629,\n",
       "  0.3281397223472595,\n",
       "  0.32788658142089844,\n",
       "  0.32806405425071716,\n",
       "  0.32708942890167236,\n",
       "  0.32694023847579956,\n",
       "  0.32657501101493835,\n",
       "  0.32658302783966064,\n",
       "  0.3262465000152588,\n",
       "  0.32599037885665894,\n",
       "  0.32569393515586853,\n",
       "  0.32485446333885193,\n",
       "  0.3257201910018921,\n",
       "  0.32410958409309387,\n",
       "  0.3236962854862213,\n",
       "  0.32409802079200745,\n",
       "  0.323915034532547,\n",
       "  0.32421043515205383,\n",
       "  0.3231452703475952,\n",
       "  0.32308128476142883,\n",
       "  0.323294997215271,\n",
       "  0.3222569227218628,\n",
       "  0.3217473328113556,\n",
       "  0.32228684425354004,\n",
       "  0.3222017288208008,\n",
       "  0.3220265507698059,\n",
       "  0.3215845227241516,\n",
       "  0.3214782774448395,\n",
       "  0.32224351167678833,\n",
       "  0.32056137919425964,\n",
       "  0.320720374584198,\n",
       "  0.32065141201019287,\n",
       "  0.3208535313606262,\n",
       "  0.3210415244102478,\n",
       "  0.32020559906959534,\n",
       "  0.32043784856796265,\n",
       "  0.3202630579471588,\n",
       "  0.3199896812438965,\n",
       "  0.32013198733329773,\n",
       "  0.3198656737804413,\n",
       "  0.3198016881942749,\n",
       "  0.3189312219619751,\n",
       "  0.3196505904197693,\n",
       "  0.3191348910331726,\n",
       "  0.3185637295246124,\n",
       "  0.31961360573768616,\n",
       "  0.31929120421409607,\n",
       "  0.31918075680732727,\n",
       "  0.3192358613014221,\n",
       "  0.31831008195877075,\n",
       "  0.3190639019012451,\n",
       "  0.3187437057495117,\n",
       "  0.3188037574291229,\n",
       "  0.3185857832431793,\n",
       "  0.31833410263061523,\n",
       "  0.3184060752391815,\n",
       "  0.3178534507751465,\n",
       "  0.31818103790283203,\n",
       "  0.3180903196334839],\n",
       " 'accuracy': [0.6537500023841858,\n",
       "  0.7954687476158142,\n",
       "  0.796093761920929,\n",
       "  0.8073437213897705,\n",
       "  0.8137500286102295,\n",
       "  0.8168749809265137,\n",
       "  0.8239062428474426,\n",
       "  0.8332812786102295,\n",
       "  0.8382812738418579,\n",
       "  0.8467187285423279,\n",
       "  0.8503124713897705,\n",
       "  0.8535937666893005,\n",
       "  0.85546875,\n",
       "  0.8560937643051147,\n",
       "  0.85546875,\n",
       "  0.8567187786102295,\n",
       "  0.858593761920929,\n",
       "  0.8596875071525574,\n",
       "  0.859375,\n",
       "  0.8596875071525574,\n",
       "  0.859375,\n",
       "  0.8587499856948853,\n",
       "  0.8598437309265137,\n",
       "  0.8610937595367432,\n",
       "  0.8610937595367432,\n",
       "  0.8623437285423279,\n",
       "  0.8614062666893005,\n",
       "  0.8620312213897705,\n",
       "  0.864062488079071,\n",
       "  0.8621875047683716,\n",
       "  0.8612499833106995,\n",
       "  0.8620312213897705,\n",
       "  0.8634374737739563,\n",
       "  0.8631250262260437,\n",
       "  0.86328125,\n",
       "  0.8635937571525574,\n",
       "  0.8618749976158142,\n",
       "  0.86328125,\n",
       "  0.8643749952316284,\n",
       "  0.8650000095367432,\n",
       "  0.8639062643051147,\n",
       "  0.8650000095367432,\n",
       "  0.8643749952316284,\n",
       "  0.8648437261581421,\n",
       "  0.8648437261581421,\n",
       "  0.8650000095367432,\n",
       "  0.8657812476158142,\n",
       "  0.8653125166893005,\n",
       "  0.8660937547683716,\n",
       "  0.8643749952316284,\n",
       "  0.8653125166893005,\n",
       "  0.8660937547683716,\n",
       "  0.8675000071525574,\n",
       "  0.8671875,\n",
       "  0.8667187690734863,\n",
       "  0.8665624856948853,\n",
       "  0.8656250238418579,\n",
       "  0.8653125166893005,\n",
       "  0.8659374713897705,\n",
       "  0.8687499761581421,\n",
       "  0.8662499785423279,\n",
       "  0.8659374713897705,\n",
       "  0.8681250214576721,\n",
       "  0.8653125166893005,\n",
       "  0.8671875,\n",
       "  0.8684375286102295,\n",
       "  0.8670312762260437,\n",
       "  0.8670312762260437,\n",
       "  0.8665624856948853,\n",
       "  0.8675000071525574,\n",
       "  0.8671875,\n",
       "  0.8682812452316284,\n",
       "  0.8690624833106995,\n",
       "  0.8670312762260437,\n",
       "  0.8676562309265137,\n",
       "  0.8676562309265137,\n",
       "  0.8681250214576721,\n",
       "  0.8687499761581421,\n",
       "  0.8684375286102295,\n",
       "  0.8700000047683716,\n",
       "  0.8678125143051147,\n",
       "  0.8689062595367432,\n",
       "  0.8685937523841858,\n",
       "  0.866406261920929,\n",
       "  0.867968738079071,\n",
       "  0.8673437237739563,\n",
       "  0.866406261920929,\n",
       "  0.8684375286102295,\n",
       "  0.8693749904632568,\n",
       "  0.8676562309265137,\n",
       "  0.8676562309265137,\n",
       "  0.867968738079071,\n",
       "  0.8685937523841858,\n",
       "  0.8681250214576721,\n",
       "  0.8676562309265137,\n",
       "  0.8684375286102295,\n",
       "  0.8684375286102295,\n",
       "  0.8682812452316284,\n",
       "  0.8659374713897705,\n",
       "  0.8693749904632568],\n",
       " 'val_loss': [0.4822939932346344,\n",
       "  0.4526142179965973,\n",
       "  0.43925198912620544,\n",
       "  0.43177008628845215,\n",
       "  0.42696627974510193,\n",
       "  0.4208482503890991,\n",
       "  0.41398200392723083,\n",
       "  0.40394315123558044,\n",
       "  0.3923909664154053,\n",
       "  0.3816712498664856,\n",
       "  0.37178677320480347,\n",
       "  0.3664715588092804,\n",
       "  0.360818088054657,\n",
       "  0.35917985439300537,\n",
       "  0.357591450214386,\n",
       "  0.3560774326324463,\n",
       "  0.35575392842292786,\n",
       "  0.35524410009384155,\n",
       "  0.35501259565353394,\n",
       "  0.3533918857574463,\n",
       "  0.35337042808532715,\n",
       "  0.3533402383327484,\n",
       "  0.3519854247570038,\n",
       "  0.3512752652168274,\n",
       "  0.3521474003791809,\n",
       "  0.35066306591033936,\n",
       "  0.3510819375514984,\n",
       "  0.3507809042930603,\n",
       "  0.35007286071777344,\n",
       "  0.3490090072154999,\n",
       "  0.35069113969802856,\n",
       "  0.34817183017730713,\n",
       "  0.3471716344356537,\n",
       "  0.3474319875240326,\n",
       "  0.3473241329193115,\n",
       "  0.3468557298183441,\n",
       "  0.3469424545764923,\n",
       "  0.34659743309020996,\n",
       "  0.346958190202713,\n",
       "  0.3469334840774536,\n",
       "  0.3467506468296051,\n",
       "  0.34638726711273193,\n",
       "  0.34619492292404175,\n",
       "  0.34584471583366394,\n",
       "  0.34569185972213745,\n",
       "  0.34550753235816956,\n",
       "  0.3444347679615021,\n",
       "  0.344795823097229,\n",
       "  0.34595611691474915,\n",
       "  0.34539562463760376,\n",
       "  0.34563004970550537,\n",
       "  0.3454500138759613,\n",
       "  0.3465363383293152,\n",
       "  0.3445999026298523,\n",
       "  0.34427666664123535,\n",
       "  0.3449135720729828,\n",
       "  0.34451717138290405,\n",
       "  0.34474295377731323,\n",
       "  0.34497353434562683,\n",
       "  0.34324806928634644,\n",
       "  0.344656765460968,\n",
       "  0.3431055545806885,\n",
       "  0.3435283601284027,\n",
       "  0.3435533046722412,\n",
       "  0.34269261360168457,\n",
       "  0.3416019082069397,\n",
       "  0.34318649768829346,\n",
       "  0.34407666325569153,\n",
       "  0.34181082248687744,\n",
       "  0.3429291844367981,\n",
       "  0.34254658222198486,\n",
       "  0.3436245620250702,\n",
       "  0.34217730164527893,\n",
       "  0.34132441878318787,\n",
       "  0.34256309270858765,\n",
       "  0.34214574098587036,\n",
       "  0.34248197078704834,\n",
       "  0.3429696559906006,\n",
       "  0.3462986350059509,\n",
       "  0.34312599897384644,\n",
       "  0.3436351418495178,\n",
       "  0.3432743549346924,\n",
       "  0.343571275472641,\n",
       "  0.3450348377227783,\n",
       "  0.34472543001174927,\n",
       "  0.3445262014865875,\n",
       "  0.3434021770954132,\n",
       "  0.3434099555015564,\n",
       "  0.3438533544540405,\n",
       "  0.3434569239616394,\n",
       "  0.3447399437427521,\n",
       "  0.3438049554824829,\n",
       "  0.34281420707702637,\n",
       "  0.3429185152053833,\n",
       "  0.344944030046463,\n",
       "  0.34382590651512146,\n",
       "  0.3437705338001251,\n",
       "  0.3437057435512543,\n",
       "  0.34358254075050354,\n",
       "  0.3434816598892212],\n",
       " 'val_accuracy': [0.796875,\n",
       "  0.7962499856948853,\n",
       "  0.8006250262260437,\n",
       "  0.8149999976158142,\n",
       "  0.8174999952316284,\n",
       "  0.8231250047683716,\n",
       "  0.8262500166893005,\n",
       "  0.828125,\n",
       "  0.8306249976158142,\n",
       "  0.8381249904632568,\n",
       "  0.8462499976158142,\n",
       "  0.8487499952316284,\n",
       "  0.8550000190734863,\n",
       "  0.8537499904632568,\n",
       "  0.8537499904632568,\n",
       "  0.8556249737739563,\n",
       "  0.8550000190734863,\n",
       "  0.8556249737739563,\n",
       "  0.8531249761581421,\n",
       "  0.8556249737739563,\n",
       "  0.856249988079071,\n",
       "  0.8537499904632568,\n",
       "  0.8568750023841858,\n",
       "  0.8550000190734863,\n",
       "  0.8575000166893005,\n",
       "  0.8531249761581421,\n",
       "  0.8575000166893005,\n",
       "  0.8543750047683716,\n",
       "  0.8512499928474426,\n",
       "  0.8537499904632568,\n",
       "  0.856249988079071,\n",
       "  0.8556249737739563,\n",
       "  0.859375,\n",
       "  0.8568750023841858,\n",
       "  0.856249988079071,\n",
       "  0.8556249737739563,\n",
       "  0.8575000166893005,\n",
       "  0.8556249737739563,\n",
       "  0.8568750023841858,\n",
       "  0.8581249713897705,\n",
       "  0.8575000166893005,\n",
       "  0.8568750023841858,\n",
       "  0.8600000143051147,\n",
       "  0.856249988079071,\n",
       "  0.856249988079071,\n",
       "  0.8612499833106995,\n",
       "  0.859375,\n",
       "  0.8606250286102295,\n",
       "  0.8587499856948853,\n",
       "  0.8568750023841858,\n",
       "  0.8587499856948853,\n",
       "  0.8587499856948853,\n",
       "  0.8581249713897705,\n",
       "  0.859375,\n",
       "  0.8606250286102295,\n",
       "  0.8631250262260437,\n",
       "  0.8612499833106995,\n",
       "  0.8568750023841858,\n",
       "  0.859375,\n",
       "  0.8600000143051147,\n",
       "  0.856249988079071,\n",
       "  0.8606250286102295,\n",
       "  0.8575000166893005,\n",
       "  0.862500011920929,\n",
       "  0.8612499833106995,\n",
       "  0.8606250286102295,\n",
       "  0.8600000143051147,\n",
       "  0.8575000166893005,\n",
       "  0.8600000143051147,\n",
       "  0.8606250286102295,\n",
       "  0.862500011920929,\n",
       "  0.8575000166893005,\n",
       "  0.8618749976158142,\n",
       "  0.8643749952316284,\n",
       "  0.8581249713897705,\n",
       "  0.8643749952316284,\n",
       "  0.8612499833106995,\n",
       "  0.8587499856948853,\n",
       "  0.862500011920929,\n",
       "  0.8668749928474426,\n",
       "  0.8587499856948853,\n",
       "  0.856249988079071,\n",
       "  0.8587499856948853,\n",
       "  0.8618749976158142,\n",
       "  0.8575000166893005,\n",
       "  0.8600000143051147,\n",
       "  0.8606250286102295,\n",
       "  0.8606250286102295,\n",
       "  0.8587499856948853,\n",
       "  0.859375,\n",
       "  0.8631250262260437,\n",
       "  0.8637499809265137,\n",
       "  0.8631250262260437,\n",
       "  0.862500011920929,\n",
       "  0.8587499856948853,\n",
       "  0.8587499856948853,\n",
       "  0.8662499785423279,\n",
       "  0.8606250286102295,\n",
       "  0.8587499856948853,\n",
       "  0.859375]}"
      ]
     },
     "execution_count": 32,
     "metadata": {},
     "output_type": "execute_result"
    }
   ],
   "source": [
    "history.history"
   ]
  },
  {
   "cell_type": "code",
   "execution_count": 33,
   "metadata": {
    "colab": {
     "base_uri": "https://localhost:8080/",
     "height": 450
    },
    "id": "MNx0cliW1ktD",
    "outputId": "d89c9db8-82c7-438c-9ab2-0971a69a1b1e"
   },
   "outputs": [
    {
     "data": {
      "text/plain": [
       "[<matplotlib.lines.Line2D at 0x1d2268b3fd0>]"
      ]
     },
     "execution_count": 33,
     "metadata": {},
     "output_type": "execute_result"
    },
    {
     "data": {
      "image/png": "[encoded data removed]",
      "text/plain": [
       "<Figure size 640x480 with 1 Axes>"
      ]
     },
     "metadata": {},
     "output_type": "display_data"
    }
   ],
   "source": [
    "plt.plot(history.history['loss'])\n",
    "plt.plot(history.history['val_loss'])"
   ]
  },
  {
   "cell_type": "code",
   "execution_count": 34,
   "metadata": {
    "colab": {
     "base_uri": "https://localhost:8080/",
     "height": 447
    },
    "id": "R4zVazIt1y6w",
    "outputId": "27b3f108-db03-48f5-a9d1-d9efa901baa7"
   },
   "outputs": [
    {
     "data": {
      "text/plain": [
       "[<matplotlib.lines.Line2D at 0x1d22691b9a0>]"
      ]
     },
     "execution_count": 34,
     "metadata": {},
     "output_type": "execute_result"
    },
    {
     "data": {
      "image/png": "[encoded data removed]",
      "text/plain": [
       "<Figure size 640x480 with 1 Axes>"
      ]
     },
     "metadata": {},
     "output_type": "display_data"
    }
   ],
   "source": [
    "plt.plot(history.history['accuracy'])\n",
    "plt.plot(history.history['val_accuracy'])"
   ]
  },
  {
   "cell_type": "code",
   "execution_count": 35,
   "metadata": {
    "id": "Gan3aJHs2JbI"
   },
   "outputs": [],
   "source": [
    "#A link\n",
    "#https://www.kaggle.com/code/campusx/notebook8ad570467f/notebook"
   ]
  },
  {
   "cell_type": "code",
   "execution_count": null,
   "metadata": {
    "id": "wV7QBKpS3xFm"
   },
   "outputs": [],
   "source": []
  }
 ],
 "metadata": {
  "colab": {
   "provenance": []
  },
  "kernelspec": {
   "display_name": "Python 3 (ipykernel)",
   "language": "python",
   "name": "python3"
  },
  "language_info": {
   "codemirror_mode": {
    "name": "ipython",
    "version": 3
   },
   "file_extension": ".py",
   "mimetype": "text/x-python",
   "name": "python",
   "nbconvert_exporter": "python",
   "pygments_lexer": "ipython3",
   "version": "3.9.13"
  }
 },
 "nbformat": 4,
 "nbformat_minor": 1
}
